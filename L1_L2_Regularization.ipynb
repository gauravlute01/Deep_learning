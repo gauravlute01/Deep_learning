{
 "cells": [
  {
   "cell_type": "code",
   "execution_count": 9,
   "id": "e481b776-587c-4386-ab2c-02ec365345bb",
   "metadata": {},
   "outputs": [],
   "source": [
    "import numpy as np\n",
    "import matplotlib.pyplot as plt \n",
    "from sklearn.datasets import make_moons \n",
    "import seaborn as sn\n",
    "from mlxtend.plotting import plot_decision_regions\n",
    "\n",
    "import tensorflow\n",
    "from tensorflow.keras.models import Sequential\n",
    "from tensorflow.keras.layers import Dense\n",
    "from tensorflow.keras.layers import Dropout\n",
    "from tensorflow.keras.optimizers import Adam"
   ]
  },
  {
   "cell_type": "code",
   "execution_count": 2,
   "id": "babf8d03-ab63-4f04-87b6-5971549e2c96",
   "metadata": {},
   "outputs": [],
   "source": [
    "X, y = make_moons(100, noise=0.25, random_state=2)"
   ]
  },
  {
   "cell_type": "code",
   "execution_count": 3,
   "id": "ca11e128-f95a-4e22-8c9f-d059fd9c84ef",
   "metadata": {},
   "outputs": [
    {
     "data": {
      "image/png": "[encoded data removed]",
      "text/plain": [
       "<Figure size 432x288 with 1 Axes>"
      ]
     },
     "metadata": {
      "needs_background": "light"
     },
     "output_type": "display_data"
    }
   ],
   "source": [
    "import matplotlib.pyplot as plt \n",
    "plt.scatter(X[:,0], X[:,1], c=y)\n",
    "plt.show()"
   ]
  },
  {
   "cell_type": "code",
   "execution_count": 6,
   "id": "93c1674d-8b9f-46f2-984e-81fd5fa09182",
   "metadata": {},
   "outputs": [
    {
     "data": {
      "text/html": [
       "<pre style=\"white-space:pre;overflow-x:auto;line-height:normal;font-family:Menlo,'DejaVu Sans Mono',consolas,'Courier New',monospace\"><span style=\"font-weight: bold\">Model: \"sequential_2\"</span>\n",
       "</pre>\n"
      ],
      "text/plain": [
       "\u001b[1mModel: \"sequential_2\"\u001b[0m\n"
      ]
     },
     "metadata": {},
     "output_type": "display_data"
    },
    {
     "data": {
      "text/html": [
       "<pre style=\"white-space:pre;overflow-x:auto;line-height:normal;font-family:Menlo,'DejaVu Sans Mono',consolas,'Courier New',monospace\">┏━━━━━━━━━━━━━━━━━━━━━━━━━━━━━━━━━┳━━━━━━━━━━━━━━━━━━━━━━━━┳━━━━━━━━━━━━━━━┓\n",
       "┃<span style=\"font-weight: bold\"> Layer (type)                    </span>┃<span style=\"font-weight: bold\"> Output Shape           </span>┃<span style=\"font-weight: bold\">       Param # </span>┃\n",
       "┡━━━━━━━━━━━━━━━━━━━━━━━━━━━━━━━━━╇━━━━━━━━━━━━━━━━━━━━━━━━╇━━━━━━━━━━━━━━━┩\n",
       "│ dense_4 (<span style=\"color: #0087ff; text-decoration-color: #0087ff\">Dense</span>)                 │ (<span style=\"color: #00d7ff; text-decoration-color: #00d7ff\">None</span>, <span style=\"color: #00af00; text-decoration-color: #00af00\">128</span>)            │           <span style=\"color: #00af00; text-decoration-color: #00af00\">384</span> │\n",
       "├─────────────────────────────────┼────────────────────────┼───────────────┤\n",
       "│ dense_5 (<span style=\"color: #0087ff; text-decoration-color: #0087ff\">Dense</span>)                 │ (<span style=\"color: #00d7ff; text-decoration-color: #00d7ff\">None</span>, <span style=\"color: #00af00; text-decoration-color: #00af00\">128</span>)            │        <span style=\"color: #00af00; text-decoration-color: #00af00\">16,512</span> │\n",
       "├─────────────────────────────────┼────────────────────────┼───────────────┤\n",
       "│ dense_6 (<span style=\"color: #0087ff; text-decoration-color: #0087ff\">Dense</span>)                 │ (<span style=\"color: #00d7ff; text-decoration-color: #00d7ff\">None</span>, <span style=\"color: #00af00; text-decoration-color: #00af00\">1</span>)              │           <span style=\"color: #00af00; text-decoration-color: #00af00\">129</span> │\n",
       "└─────────────────────────────────┴────────────────────────┴───────────────┘\n",
       "</pre>\n"
      ],
      "text/plain": [
       "┏━━━━━━━━━━━━━━━━━━━━━━━━━━━━━━━━━┳━━━━━━━━━━━━━━━━━━━━━━━━┳━━━━━━━━━━━━━━━┓\n",
       "┃\u001b[1m \u001b[0m\u001b[1mLayer (type)                   \u001b[0m\u001b[1m \u001b[0m┃\u001b[1m \u001b[0m\u001b[1mOutput Shape          \u001b[0m\u001b[1m \u001b[0m┃\u001b[1m \u001b[0m\u001b[1m      Param #\u001b[0m\u001b[1m \u001b[0m┃\n",
       "┡━━━━━━━━━━━━━━━━━━━━━━━━━━━━━━━━━╇━━━━━━━━━━━━━━━━━━━━━━━━╇━━━━━━━━━━━━━━━┩\n",
       "│ dense_4 (\u001b[38;5;33mDense\u001b[0m)                 │ (\u001b[38;5;45mNone\u001b[0m, \u001b[38;5;34m128\u001b[0m)            │           \u001b[38;5;34m384\u001b[0m │\n",
       "├─────────────────────────────────┼────────────────────────┼───────────────┤\n",
       "│ dense_5 (\u001b[38;5;33mDense\u001b[0m)                 │ (\u001b[38;5;45mNone\u001b[0m, \u001b[38;5;34m128\u001b[0m)            │        \u001b[38;5;34m16,512\u001b[0m │\n",
       "├─────────────────────────────────┼────────────────────────┼───────────────┤\n",
       "│ dense_6 (\u001b[38;5;33mDense\u001b[0m)                 │ (\u001b[38;5;45mNone\u001b[0m, \u001b[38;5;34m1\u001b[0m)              │           \u001b[38;5;34m129\u001b[0m │\n",
       "└─────────────────────────────────┴────────────────────────┴───────────────┘\n"
      ]
     },
     "metadata": {},
     "output_type": "display_data"
    },
    {
     "data": {
      "text/html": [
       "<pre style=\"white-space:pre;overflow-x:auto;line-height:normal;font-family:Menlo,'DejaVu Sans Mono',consolas,'Courier New',monospace\"><span style=\"font-weight: bold\"> Total params: </span><span style=\"color: #00af00; text-decoration-color: #00af00\">17,025</span> (66.50 KB)\n",
       "</pre>\n"
      ],
      "text/plain": [
       "\u001b[1m Total params: \u001b[0m\u001b[38;5;34m17,025\u001b[0m (66.50 KB)\n"
      ]
     },
     "metadata": {},
     "output_type": "display_data"
    },
    {
     "data": {
      "text/html": [
       "<pre style=\"white-space:pre;overflow-x:auto;line-height:normal;font-family:Menlo,'DejaVu Sans Mono',consolas,'Courier New',monospace\"><span style=\"font-weight: bold\"> Trainable params: </span><span style=\"color: #00af00; text-decoration-color: #00af00\">17,025</span> (66.50 KB)\n",
       "</pre>\n"
      ],
      "text/plain": [
       "\u001b[1m Trainable params: \u001b[0m\u001b[38;5;34m17,025\u001b[0m (66.50 KB)\n"
      ]
     },
     "metadata": {},
     "output_type": "display_data"
    },
    {
     "data": {
      "text/html": [
       "<pre style=\"white-space:pre;overflow-x:auto;line-height:normal;font-family:Menlo,'DejaVu Sans Mono',consolas,'Courier New',monospace\"><span style=\"font-weight: bold\"> Non-trainable params: </span><span style=\"color: #00af00; text-decoration-color: #00af00\">0</span> (0.00 B)\n",
       "</pre>\n"
      ],
      "text/plain": [
       "\u001b[1m Non-trainable params: \u001b[0m\u001b[38;5;34m0\u001b[0m (0.00 B)\n"
      ]
     },
     "metadata": {},
     "output_type": "display_data"
    }
   ],
   "source": [
    "# fitting models\n",
    "model1 = Sequential()\n",
    "\n",
    "model1.add(Dense(128, input_dim=2, activation='relu'))\n",
    "model1.add(Dense(128, activation='relu'))\n",
    "model1.add(Dense(1,activation='sigmoid'))\n",
    "\n",
    "model1.summary()"
   ]
  },
  {
   "cell_type": "code",
   "execution_count": 7,
   "id": "7be1ec0c-3607-4f5a-b9a1-1a053b2b9099",
   "metadata": {},
   "outputs": [],
   "source": [
    "adam = Adam(learning_rate = 0.01)\n",
    "model1.compile(loss='binary_crossentropy', optimizer=adam, metrics=['accuracy'])\n",
    "\n",
    "history1 = model1.fit(X,y, epochs=2000, validation_split=0.2, verbose=0)"
   ]
  },
  {
   "cell_type": "code",
   "execution_count": 10,
   "id": "d5453afc-53f3-4539-adad-8cc83f624855",
   "metadata": {},
   "outputs": [
    {
     "name": "stdout",
     "output_type": "stream",
     "text": [
      "\u001b[1m3888/3888\u001b[0m \u001b[32m━━━━━━━━━━━━━━━━━━━━\u001b[0m\u001b[37m\u001b[0m \u001b[1m4s\u001b[0m 892us/step\n"
     ]
    },
    {
     "data": {
      "image/png": "[encoded data removed]",
      "text/plain": [
       "<Figure size 432x288 with 1 Axes>"
      ]
     },
     "metadata": {
      "needs_background": "light"
     },
     "output_type": "display_data"
    }
   ],
   "source": [
    "plot_decision_regions(X, y.astype('int'), clf=model1, legend=2)\n",
    "plt.xlim(-2,3)\n",
    "plt.ylim(-1.5, 2)\n",
    "plt.show()"
   ]
  },
  {
   "cell_type": "code",
   "execution_count": 11,
   "id": "b056323d-2784-472e-85be-0175bbe34aaf",
   "metadata": {},
   "outputs": [
    {
     "data": {
      "text/plain": [
       "[<matplotlib.lines.Line2D at 0x7fecdec6a7d0>]"
      ]
     },
     "execution_count": 11,
     "metadata": {},
     "output_type": "execute_result"
    },
    {
     "data": {
      "image/png": "[encoded data removed]",
      "text/plain": [
       "<Figure size 432x288 with 1 Axes>"
      ]
     },
     "metadata": {
      "needs_background": "light"
     },
     "output_type": "display_data"
    }
   ],
   "source": [
    "plt.plot(history1.history['loss'])\n",
    "plt.plot(history1.history['val_loss'])"
   ]
  },
  {
   "cell_type": "code",
   "execution_count": 16,
   "id": "ff42718d-3e65-46ef-8836-64496fc72d46",
   "metadata": {},
   "outputs": [
    {
     "data": {
      "text/html": [
       "<pre style=\"white-space:pre;overflow-x:auto;line-height:normal;font-family:Menlo,'DejaVu Sans Mono',consolas,'Courier New',monospace\"><span style=\"font-weight: bold\">Model: \"sequential_4\"</span>\n",
       "</pre>\n"
      ],
      "text/plain": [
       "\u001b[1mModel: \"sequential_4\"\u001b[0m\n"
      ]
     },
     "metadata": {},
     "output_type": "display_data"
    },
    {
     "data": {
      "text/html": [
       "<pre style=\"white-space:pre;overflow-x:auto;line-height:normal;font-family:Menlo,'DejaVu Sans Mono',consolas,'Courier New',monospace\">┏━━━━━━━━━━━━━━━━━━━━━━━━━━━━━━━━━┳━━━━━━━━━━━━━━━━━━━━━━━━┳━━━━━━━━━━━━━━━┓\n",
       "┃<span style=\"font-weight: bold\"> Layer (type)                    </span>┃<span style=\"font-weight: bold\"> Output Shape           </span>┃<span style=\"font-weight: bold\">       Param # </span>┃\n",
       "┡━━━━━━━━━━━━━━━━━━━━━━━━━━━━━━━━━╇━━━━━━━━━━━━━━━━━━━━━━━━╇━━━━━━━━━━━━━━━┩\n",
       "│ dense_10 (<span style=\"color: #0087ff; text-decoration-color: #0087ff\">Dense</span>)                │ (<span style=\"color: #00d7ff; text-decoration-color: #00d7ff\">None</span>, <span style=\"color: #00af00; text-decoration-color: #00af00\">128</span>)            │           <span style=\"color: #00af00; text-decoration-color: #00af00\">384</span> │\n",
       "├─────────────────────────────────┼────────────────────────┼───────────────┤\n",
       "│ dense_11 (<span style=\"color: #0087ff; text-decoration-color: #0087ff\">Dense</span>)                │ (<span style=\"color: #00d7ff; text-decoration-color: #00d7ff\">None</span>, <span style=\"color: #00af00; text-decoration-color: #00af00\">128</span>)            │        <span style=\"color: #00af00; text-decoration-color: #00af00\">16,512</span> │\n",
       "├─────────────────────────────────┼────────────────────────┼───────────────┤\n",
       "│ dense_12 (<span style=\"color: #0087ff; text-decoration-color: #0087ff\">Dense</span>)                │ (<span style=\"color: #00d7ff; text-decoration-color: #00d7ff\">None</span>, <span style=\"color: #00af00; text-decoration-color: #00af00\">1</span>)              │           <span style=\"color: #00af00; text-decoration-color: #00af00\">129</span> │\n",
       "└─────────────────────────────────┴────────────────────────┴───────────────┘\n",
       "</pre>\n"
      ],
      "text/plain": [
       "┏━━━━━━━━━━━━━━━━━━━━━━━━━━━━━━━━━┳━━━━━━━━━━━━━━━━━━━━━━━━┳━━━━━━━━━━━━━━━┓\n",
       "┃\u001b[1m \u001b[0m\u001b[1mLayer (type)                   \u001b[0m\u001b[1m \u001b[0m┃\u001b[1m \u001b[0m\u001b[1mOutput Shape          \u001b[0m\u001b[1m \u001b[0m┃\u001b[1m \u001b[0m\u001b[1m      Param #\u001b[0m\u001b[1m \u001b[0m┃\n",
       "┡━━━━━━━━━━━━━━━━━━━━━━━━━━━━━━━━━╇━━━━━━━━━━━━━━━━━━━━━━━━╇━━━━━━━━━━━━━━━┩\n",
       "│ dense_10 (\u001b[38;5;33mDense\u001b[0m)                │ (\u001b[38;5;45mNone\u001b[0m, \u001b[38;5;34m128\u001b[0m)            │           \u001b[38;5;34m384\u001b[0m │\n",
       "├─────────────────────────────────┼────────────────────────┼───────────────┤\n",
       "│ dense_11 (\u001b[38;5;33mDense\u001b[0m)                │ (\u001b[38;5;45mNone\u001b[0m, \u001b[38;5;34m128\u001b[0m)            │        \u001b[38;5;34m16,512\u001b[0m │\n",
       "├─────────────────────────────────┼────────────────────────┼───────────────┤\n",
       "│ dense_12 (\u001b[38;5;33mDense\u001b[0m)                │ (\u001b[38;5;45mNone\u001b[0m, \u001b[38;5;34m1\u001b[0m)              │           \u001b[38;5;34m129\u001b[0m │\n",
       "└─────────────────────────────────┴────────────────────────┴───────────────┘\n"
      ]
     },
     "metadata": {},
     "output_type": "display_data"
    },
    {
     "data": {
      "text/html": [
       "<pre style=\"white-space:pre;overflow-x:auto;line-height:normal;font-family:Menlo,'DejaVu Sans Mono',consolas,'Courier New',monospace\"><span style=\"font-weight: bold\"> Total params: </span><span style=\"color: #00af00; text-decoration-color: #00af00\">17,025</span> (66.50 KB)\n",
       "</pre>\n"
      ],
      "text/plain": [
       "\u001b[1m Total params: \u001b[0m\u001b[38;5;34m17,025\u001b[0m (66.50 KB)\n"
      ]
     },
     "metadata": {},
     "output_type": "display_data"
    },
    {
     "data": {
      "text/html": [
       "<pre style=\"white-space:pre;overflow-x:auto;line-height:normal;font-family:Menlo,'DejaVu Sans Mono',consolas,'Courier New',monospace\"><span style=\"font-weight: bold\"> Trainable params: </span><span style=\"color: #00af00; text-decoration-color: #00af00\">17,025</span> (66.50 KB)\n",
       "</pre>\n"
      ],
      "text/plain": [
       "\u001b[1m Trainable params: \u001b[0m\u001b[38;5;34m17,025\u001b[0m (66.50 KB)\n"
      ]
     },
     "metadata": {},
     "output_type": "display_data"
    },
    {
     "data": {
      "text/html": [
       "<pre style=\"white-space:pre;overflow-x:auto;line-height:normal;font-family:Menlo,'DejaVu Sans Mono',consolas,'Courier New',monospace\"><span style=\"font-weight: bold\"> Non-trainable params: </span><span style=\"color: #00af00; text-decoration-color: #00af00\">0</span> (0.00 B)\n",
       "</pre>\n"
      ],
      "text/plain": [
       "\u001b[1m Non-trainable params: \u001b[0m\u001b[38;5;34m0\u001b[0m (0.00 B)\n"
      ]
     },
     "metadata": {},
     "output_type": "display_data"
    }
   ],
   "source": [
    "# Model2\n",
    "#from mlxtend.plotting import plot_decision_regions\n",
    "\n",
    "model2 = Sequential()\n",
    "\n",
    "model2.add(Dense(128,input_dim=2, activation=\"relu\",kernel_regularizer=tensorflow.keras.regularizers.l1(0.001)))\n",
    "model2.add(Dense(128, activation=\"relu\",kernel_regularizer=tensorflow.keras.regularizers.l1(0.001)))\n",
    "model2.add(Dense(1,activation='sigmoid'))\n",
    "\n",
    "model2.summary()"
   ]
  },
  {
   "cell_type": "code",
   "execution_count": 17,
   "id": "bfcc04f3-807c-440b-bd48-886974c6a381",
   "metadata": {},
   "outputs": [],
   "source": [
    "# optiomizers\n",
    "#from tensorflow.keras.optimizers import Adam\n",
    "adam = Adam(learning_rate=0.01)\n",
    "model2.compile(loss='binary_crossentropy', optimizer=adam, metrics =['accuracy'])\n",
    "\n",
    "history2 = model2.fit(X,y, epochs=2000, validation_split=0.2, verbose=0)"
   ]
  },
  {
   "cell_type": "code",
   "execution_count": 18,
   "id": "67713b5f-3e66-4898-a5f1-f09e71e62bff",
   "metadata": {},
   "outputs": [
    {
     "name": "stdout",
     "output_type": "stream",
     "text": [
      "\u001b[1m3888/3888\u001b[0m \u001b[32m━━━━━━━━━━━━━━━━━━━━\u001b[0m\u001b[37m\u001b[0m \u001b[1m4s\u001b[0m 1ms/step\n"
     ]
    },
    {
     "data": {
      "image/png": "[encoded data removed]",
      "text/plain": [
       "<Figure size 432x288 with 1 Axes>"
      ]
     },
     "metadata": {
      "needs_background": "light"
     },
     "output_type": "display_data"
    }
   ],
   "source": [
    "plot_decision_regions(X,y.astype('int'), clf=model2, legend=2)\n",
    "plt.xlim(-2, 3)\n",
    "plt.ylim(-1.5, 2)\n",
    "plt.show()"
   ]
  },
  {
   "cell_type": "code",
   "execution_count": 20,
   "id": "75230a1a-f153-42e6-987e-8e3b574968e1",
   "metadata": {},
   "outputs": [
    {
     "data": {
      "text/plain": [
       "[<matplotlib.lines.Line2D at 0x7fecdea67bb0>]"
      ]
     },
     "execution_count": 20,
     "metadata": {},
     "output_type": "execute_result"
    },
    {
     "data": {
      "image/png": "[encoded data removed]",
      "text/plain": [
       "<Figure size 432x288 with 1 Axes>"
      ]
     },
     "metadata": {
      "needs_background": "light"
     },
     "output_type": "display_data"
    }
   ],
   "source": [
    "plt.plot(history2.history['loss'])\n",
    "plt.plot(history2.history['val_loss'])"
   ]
  },
  {
   "cell_type": "code",
   "execution_count": 24,
   "id": "ab14fef9-2f4d-4aaf-9b87-e0e9ccc6a0ea",
   "metadata": {},
   "outputs": [],
   "source": [
    "model1_weight_layer1 = model1.get_weights()[0].reshape(256)\n",
    "model2_weight_layer1 = model2.get_weights()[0].reshape(256)"
   ]
  },
  {
   "cell_type": "code",
   "execution_count": 25,
   "id": "683f2d8f-1278-441d-99cb-70f7de55ddb1",
   "metadata": {},
   "outputs": [
    {
     "data": {
      "text/plain": [
       "<Axes: >"
      ]
     },
     "execution_count": 25,
     "metadata": {},
     "output_type": "execute_result"
    },
    {
     "data": {
      "image/png": "[encoded data removed]",
      "text/plain": [
       "<Figure size 432x288 with 1 Axes>"
      ]
     },
     "metadata": {
      "needs_background": "light"
     },
     "output_type": "display_data"
    }
   ],
   "source": [
    "sns.boxplot(model1_weight_layer1)"
   ]
  },
  {
   "cell_type": "code",
   "execution_count": 26,
   "id": "bf59166d-d5eb-47f3-98af-332690464f7a",
   "metadata": {},
   "outputs": [
    {
     "data": {
      "text/plain": [
       "<Axes: >"
      ]
     },
     "execution_count": 26,
     "metadata": {},
     "output_type": "execute_result"
    },
    {
     "data": {
      "image/png": "[encoded data removed]",
      "text/plain": [
       "<Figure size 432x288 with 1 Axes>"
      ]
     },
     "metadata": {
      "needs_background": "light"
     },
     "output_type": "display_data"
    }
   ],
   "source": [
    "sns.boxplot(model2_weight_layer1)"
   ]
  },
  {
   "cell_type": "code",
   "execution_count": 27,
   "id": "162c5295-f3ef-4a5d-97de-61dcd9cb01ac",
   "metadata": {},
   "outputs": [
    {
     "data": {
      "text/plain": [
       "-2.0180662"
      ]
     },
     "execution_count": 27,
     "metadata": {},
     "output_type": "execute_result"
    }
   ],
   "source": [
    "model1_weight_layer1.min()"
   ]
  },
  {
   "cell_type": "code",
   "execution_count": 28,
   "id": "5103fd65-4931-405a-a9f5-53ef230ddf79",
   "metadata": {},
   "outputs": [
    {
     "data": {
      "text/plain": [
       "-2.0504024"
      ]
     },
     "execution_count": 28,
     "metadata": {},
     "output_type": "execute_result"
    }
   ],
   "source": [
    "model2_weight_layer1.min()"
   ]
  },
  {
   "cell_type": "code",
   "execution_count": 30,
   "id": "0363e72f-585f-4b93-9e57-906c1ba190d1",
   "metadata": {},
   "outputs": [
    {
     "name": "stderr",
     "output_type": "stream",
     "text": [
      "/tmp/ipykernel_993176/3380537848.py:1: UserWarning: \n",
      "\n",
      "`distplot` is a deprecated function and will be removed in seaborn v0.14.0.\n",
      "\n",
      "Please adapt your code to use either `displot` (a figure-level function with\n",
      "similar flexibility) or `histplot` (an axes-level function for histograms).\n",
      "\n",
      "For a guide to updating your code to use the new functions, please see\n",
      "https://gist.github.com/mwaskom/de44147ed2974457ad6372750bbe5751\n",
      "\n",
      "  sns.distplot(model1_weight_layer1)\n",
      "/tmp/ipykernel_993176/3380537848.py:2: UserWarning: \n",
      "\n",
      "`distplot` is a deprecated function and will be removed in seaborn v0.14.0.\n",
      "\n",
      "Please adapt your code to use either `displot` (a figure-level function with\n",
      "similar flexibility) or `histplot` (an axes-level function for histograms).\n",
      "\n",
      "For a guide to updating your code to use the new functions, please see\n",
      "https://gist.github.com/mwaskom/de44147ed2974457ad6372750bbe5751\n",
      "\n",
      "  sns.distplot(model2_weight_layer1)\n"
     ]
    },
    {
     "data": {
      "image/png": "[encoded data removed]",
      "text/plain": [
       "<Figure size 432x288 with 1 Axes>"
      ]
     },
     "metadata": {
      "needs_background": "light"
     },
     "output_type": "display_data"
    }
   ],
   "source": [
    "sns.distplot(model1_weight_layer1)\n",
    "sns.distplot(model2_weight_layer1)\n",
    "plt.show()"
   ]
  },
  {
   "cell_type": "code",
   "execution_count": 31,
   "id": "ff031f7e-5390-41da-9e7d-d91fe506edc8",
   "metadata": {},
   "outputs": [
    {
     "data": {
      "text/plain": [
       "array([-3.09399456e-01, -2.70211458e-01,  4.52676326e-01, -3.11380267e-01,\n",
       "        4.09798652e-01, -8.88084471e-02, -1.28855243e-01,  2.91327447e-01,\n",
       "        2.68384010e-01, -3.00841779e-01, -2.54780978e-01,  2.34989077e-01,\n",
       "        2.48494759e-01, -2.58125097e-01,  4.60280865e-01, -3.45542729e-01,\n",
       "        3.84974658e-01, -5.64962387e-01,  1.10920809e-01, -5.61214447e-01,\n",
       "        2.29348779e-01, -4.93052661e-01, -3.85888785e-01, -1.82336107e-01,\n",
       "        4.22716409e-01,  2.40026504e-01,  4.10440862e-01,  4.83344704e-01,\n",
       "       -1.88471362e-01,  4.51672710e-02, -5.85702658e-01, -6.38084114e-01,\n",
       "       -3.55398238e-01, -6.08868711e-02, -3.15754145e-01,  4.46188986e-01,\n",
       "        5.25138557e-01,  6.30798340e-02,  6.86239079e-02,  4.29690033e-02,\n",
       "        5.51700354e-01,  4.14692938e-01, -6.03018284e-01,  2.72108436e-01,\n",
       "       -3.82166244e-02,  7.66876817e-01, -3.45300317e-01,  2.89440602e-01,\n",
       "       -5.46253860e-01,  8.73107314e-02, -5.07893562e-01, -2.84521542e-02,\n",
       "        1.74492579e-02, -6.51968479e-01,  2.36653686e-01,  3.33230719e-02,\n",
       "       -5.58610439e-01, -4.75232810e-01, -5.09454906e-01,  1.12793297e-01,\n",
       "        3.75307500e-01,  3.88331056e-01, -4.67377424e-01,  4.62455973e-02,\n",
       "        4.52009350e-01, -5.76356888e-01, -7.96705708e-02,  2.61220187e-01,\n",
       "        4.54549938e-01, -1.85052261e-01, -3.70581031e-01, -2.71952271e-01,\n",
       "       -3.69876325e-01, -2.08359420e-01, -2.19570100e-01,  3.64452094e-01,\n",
       "       -2.56708473e-01, -4.95798618e-01, -1.87232524e-01,  4.72323626e-01,\n",
       "        1.82019360e-03,  1.34116769e-01,  4.12831694e-01, -4.71073776e-01,\n",
       "       -3.33416238e-02, -2.92358637e-01, -2.97456205e-01,  4.25917685e-01,\n",
       "        1.89880490e-01, -4.31301266e-01, -3.14433426e-01, -4.35650125e-02,\n",
       "        1.47360295e-01,  3.79004836e-01,  5.05119622e-01, -2.79320508e-01,\n",
       "        3.40644628e-01,  3.02570164e-01, -5.92732847e-01,  2.44093850e-01,\n",
       "       -2.92300493e-01, -6.97620362e-02,  3.35321605e-01, -7.22573176e-02,\n",
       "        5.07959351e-02, -5.66559315e-01, -5.44782460e-01,  2.59979069e-01,\n",
       "       -2.70360172e-01, -6.14331841e-01,  2.71937847e-01,  5.39177954e-01,\n",
       "       -2.33130768e-01, -2.87350386e-01,  4.17013615e-01,  3.78155410e-01,\n",
       "        4.08042192e-01, -5.27461708e-01, -7.82994032e-02,  1.40097827e-01,\n",
       "       -3.79376188e-02, -4.94219452e-01, -3.97634208e-01, -2.76437432e-01,\n",
       "        2.89830834e-01, -4.46828067e-01, -2.95350045e-01, -2.58116901e-01,\n",
       "        3.76182646e-02,  2.72761822e-01, -4.82285261e-01,  4.19755369e-01,\n",
       "        6.24177158e-01, -1.61811262e-01, -2.38289624e-01,  1.87257141e-01,\n",
       "        1.71328664e-01,  4.05833781e-01, -2.02430978e-01,  5.92439711e-01,\n",
       "        1.19999722e-01,  3.47931027e-01,  5.60735583e-01,  3.20975155e-01,\n",
       "        8.58975053e-02, -2.43115991e-01, -4.14564684e-02, -4.21565175e-02,\n",
       "        1.25804931e-01, -4.89838943e-02,  2.09402159e-01, -4.31002706e-01,\n",
       "       -2.74653267e-02,  1.97939634e-01, -1.52462375e+00, -3.11718285e-01,\n",
       "        2.00719833e-01,  2.67072737e-01, -6.08068481e-02, -5.83066866e-02,\n",
       "       -1.85671246e+00, -1.07385673e-01,  2.81585544e-01,  8.80062208e-02,\n",
       "        1.45488754e-01, -3.93930152e-02, -2.43625529e-02,  9.31273922e-02,\n",
       "        9.95299593e-02,  3.77281406e-03, -4.03935350e-02,  1.26190320e-01,\n",
       "        9.18146223e-02,  1.88555971e-01,  4.57819887e-02,  6.56862795e-01,\n",
       "       -6.72188625e-02,  1.60093307e-02, -2.44897783e-01,  1.74046040e+00,\n",
       "        2.36299053e-01, -7.92988613e-02,  1.76322505e-01, -1.52918115e-01,\n",
       "       -2.38795668e-01,  1.25375360e-01, -2.33100548e-01,  2.45282888e+00,\n",
       "       -2.10071638e-01, -6.78220034e-01,  5.59165440e-02, -6.48895577e-02,\n",
       "        9.43769291e-02, -7.62320459e-02,  5.12713902e-02,  1.15317412e-01,\n",
       "       -5.35383105e-01, -1.40219659e-01,  1.91525862e-01, -1.75739303e-01,\n",
       "        3.47238541e-01, -2.21752703e-01, -2.71064728e-01, -1.03800610e-01,\n",
       "        3.02455306e-01, -2.01806617e+00, -1.23263061e+00,  1.36876792e-01,\n",
       "       -4.99605201e-02, -2.19990090e-01,  1.12936281e-01,  8.45291913e-02,\n",
       "       -6.49919659e-02,  3.94483984e-01,  4.01354790e-01, -1.77544609e-01,\n",
       "        7.44971111e-02,  1.73456833e-01,  3.49804759e-01,  4.57154550e-02,\n",
       "        1.06460564e-01, -1.04232764e+00, -6.32975340e-01,  3.33674014e-01,\n",
       "       -1.49540281e+00,  1.06526867e-01,  1.14873692e-03,  2.47457162e-01,\n",
       "        1.59682050e-01, -1.04750283e-02,  2.10043751e-02, -1.23444462e+00,\n",
       "        2.75496207e-02, -7.09350109e-01, -6.85167834e-02,  6.29643798e-02,\n",
       "        8.64811987e-03, -8.69428068e-02,  3.88720594e-02, -2.93137670e-01,\n",
       "       -9.94392931e-01, -2.21527770e-01, -1.14614643e-01, -3.48897763e-02,\n",
       "        1.73146743e-02, -5.53044416e-02, -5.13022989e-02,  2.09273160e-01,\n",
       "       -2.58519202e-02,  1.57234430e-01,  1.77866668e-01, -1.43687040e-01,\n",
       "        9.38694701e-02, -1.62293398e+00,  3.98471326e-01,  3.48226160e-01],\n",
       "      dtype=float32)"
      ]
     },
     "execution_count": 31,
     "metadata": {},
     "output_type": "execute_result"
    }
   ],
   "source": [
    "model1.get_weights()[0].reshape(256)"
   ]
  },
  {
   "cell_type": "code",
   "execution_count": null,
   "id": "5510d8a0-18d1-4633-ac41-86ea91ffb7f7",
   "metadata": {},
   "outputs": [],
   "source": []
  },
  {
   "cell_type": "code",
   "execution_count": null,
   "id": "53324e2a-2268-47dc-aeed-ef0bb365fe59",
   "metadata": {},
   "outputs": [],
   "source": []
  }
 ],
 "metadata": {
  "kernelspec": {
   "display_name": "Python 3 (ipykernel)",
   "language": "python",
   "name": "python3"
  },
  "language_info": {
   "codemirror_mode": {
    "name": "ipython",
    "version": 3
   },
   "file_extension": ".py",
   "mimetype": "text/x-python",
   "name": "python",
   "nbconvert_exporter": "python",
   "pygments_lexer": "ipython3",
   "version": "3.10.12"
  }
 },
 "nbformat": 4,
 "nbformat_minor": 5
}
