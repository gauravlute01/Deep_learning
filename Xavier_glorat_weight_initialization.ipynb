{
 "cells": [
  {
   "cell_type": "code",
   "execution_count": 1,
   "id": "fac3ca15-84f4-4e3a-af41-77169d3d0347",
   "metadata": {},
   "outputs": [
    {
     "name": "stderr",
     "output_type": "stream",
     "text": [
      "/nfs/cms/mtech23/lute.gaurav/.local/lib/python3.10/site-packages/matplotlib/projections/__init__.py:63: UserWarning: Unable to import Axes3D. This may be due to multiple versions of Matplotlib being installed (e.g. as a system package and as a pip package). As a result, the 3D projection is not available.\n",
      "  warnings.warn(\"Unable to import Axes3D. This may be due to multiple versions of \"\n"
     ]
    }
   ],
   "source": [
    "import numpy as np \n",
    "import pandas as pd\n",
    "import matplotlib.pyplot as plt "
   ]
  },
  {
   "cell_type": "code",
   "execution_count": 2,
   "id": "0311cb12-04c9-4cef-8d10-2f9f3131ae7d",
   "metadata": {},
   "outputs": [],
   "source": [
    "df = pd.read_csv('ushape.csv')"
   ]
  },
  {
   "cell_type": "code",
   "execution_count": 3,
   "id": "617e41e4-f5d3-43ea-8e30-2babb5c2fb19",
   "metadata": {},
   "outputs": [
    {
     "data": {
      "text/html": [
       "<div>\n",
       "<style scoped>\n",
       "    .dataframe tbody tr th:only-of-type {\n",
       "        vertical-align: middle;\n",
       "    }\n",
       "\n",
       "    .dataframe tbody tr th {\n",
       "        vertical-align: top;\n",
       "    }\n",
       "\n",
       "    .dataframe thead th {\n",
       "        text-align: right;\n",
       "    }\n",
       "</style>\n",
       "<table border=\"1\" class=\"dataframe\">\n",
       "  <thead>\n",
       "    <tr style=\"text-align: right;\">\n",
       "      <th></th>\n",
       "      <th>X</th>\n",
       "      <th>Y</th>\n",
       "      <th>class</th>\n",
       "    </tr>\n",
       "  </thead>\n",
       "  <tbody>\n",
       "    <tr>\n",
       "      <th>0</th>\n",
       "      <td>2.115098</td>\n",
       "      <td>-0.046244</td>\n",
       "      <td>1</td>\n",
       "    </tr>\n",
       "    <tr>\n",
       "      <th>1</th>\n",
       "      <td>0.882490</td>\n",
       "      <td>-0.075756</td>\n",
       "      <td>0</td>\n",
       "    </tr>\n",
       "    <tr>\n",
       "      <th>2</th>\n",
       "      <td>-0.055144</td>\n",
       "      <td>-0.037332</td>\n",
       "      <td>1</td>\n",
       "    </tr>\n",
       "    <tr>\n",
       "      <th>3</th>\n",
       "      <td>0.829545</td>\n",
       "      <td>-0.539321</td>\n",
       "      <td>1</td>\n",
       "    </tr>\n",
       "    <tr>\n",
       "      <th>4</th>\n",
       "      <td>2.112857</td>\n",
       "      <td>0.662084</td>\n",
       "      <td>1</td>\n",
       "    </tr>\n",
       "  </tbody>\n",
       "</table>\n",
       "</div>"
      ],
      "text/plain": [
       "          X         Y  class\n",
       "0  2.115098 -0.046244      1\n",
       "1  0.882490 -0.075756      0\n",
       "2 -0.055144 -0.037332      1\n",
       "3  0.829545 -0.539321      1\n",
       "4  2.112857  0.662084      1"
      ]
     },
     "execution_count": 3,
     "metadata": {},
     "output_type": "execute_result"
    }
   ],
   "source": [
    "df.head()"
   ]
  },
  {
   "cell_type": "code",
   "execution_count": 4,
   "id": "11c884b0-8e90-4753-ba87-206c3f1b2f97",
   "metadata": {},
   "outputs": [
    {
     "data": {
      "text/plain": [
       "<matplotlib.collections.PathCollection at 0x7f9b216cf520>"
      ]
     },
     "execution_count": 4,
     "metadata": {},
     "output_type": "execute_result"
    },
    {
     "data": {
      "image/png": "[encoded data removed]",
      "text/plain": [
       "<Figure size 432x288 with 1 Axes>"
      ]
     },
     "metadata": {
      "needs_background": "light"
     },
     "output_type": "display_data"
    }
   ],
   "source": [
    "plt.scatter(df['X'], df['Y'], c=df['class'])"
   ]
  },
  {
   "cell_type": "code",
   "execution_count": 5,
   "id": "111c26c1-4ac3-4793-bb8b-1e25a89535f9",
   "metadata": {},
   "outputs": [],
   "source": [
    "X = df.iloc[:,0:2].values\n",
    "y = df.iloc[:,-1].values"
   ]
  },
  {
   "cell_type": "code",
   "execution_count": 6,
   "id": "7c5bb2d7-fa14-4f31-bc60-98086669215d",
   "metadata": {},
   "outputs": [
    {
     "name": "stderr",
     "output_type": "stream",
     "text": [
      "2024-10-09 19:32:32.265243: E external/local_xla/xla/stream_executor/cuda/cuda_fft.cc:485] Unable to register cuFFT factory: Attempting to register factory for plugin cuFFT when one has already been registered\n",
      "2024-10-09 19:32:32.291980: E external/local_xla/xla/stream_executor/cuda/cuda_dnn.cc:8454] Unable to register cuDNN factory: Attempting to register factory for plugin cuDNN when one has already been registered\n",
      "2024-10-09 19:32:32.300232: E external/local_xla/xla/stream_executor/cuda/cuda_blas.cc:1452] Unable to register cuBLAS factory: Attempting to register factory for plugin cuBLAS when one has already been registered\n",
      "2024-10-09 19:32:32.320631: I tensorflow/core/platform/cpu_feature_guard.cc:210] This TensorFlow binary is optimized to use available CPU instructions in performance-critical operations.\n",
      "To enable the following instructions: AVX2 FMA, in other operations, rebuild TensorFlow with the appropriate compiler flags.\n",
      "2024-10-09 19:32:34.085832: W tensorflow/compiler/tf2tensorrt/utils/py_utils.cc:38] TF-TRT Warning: Could not find TensorRT\n"
     ]
    }
   ],
   "source": [
    "import tensorflow\n",
    "from tensorflow import keras \n",
    "from keras import Sequential \n",
    "from keras.layers import Dense"
   ]
  },
  {
   "cell_type": "code",
   "execution_count": 8,
   "id": "189f1e96-1797-4f14-8630-1feaa4ff1289",
   "metadata": {},
   "outputs": [
    {
     "data": {
      "text/html": [
       "<pre style=\"white-space:pre;overflow-x:auto;line-height:normal;font-family:Menlo,'DejaVu Sans Mono',consolas,'Courier New',monospace\"><span style=\"font-weight: bold\">Model: \"sequential_1\"</span>\n",
       "</pre>\n"
      ],
      "text/plain": [
       "\u001b[1mModel: \"sequential_1\"\u001b[0m\n"
      ]
     },
     "metadata": {},
     "output_type": "display_data"
    },
    {
     "data": {
      "text/html": [
       "<pre style=\"white-space:pre;overflow-x:auto;line-height:normal;font-family:Menlo,'DejaVu Sans Mono',consolas,'Courier New',monospace\">┏━━━━━━━━━━━━━━━━━━━━━━━━━━━━━━━━━┳━━━━━━━━━━━━━━━━━━━━━━━━┳━━━━━━━━━━━━━━━┓\n",
       "┃<span style=\"font-weight: bold\"> Layer (type)                    </span>┃<span style=\"font-weight: bold\"> Output Shape           </span>┃<span style=\"font-weight: bold\">       Param # </span>┃\n",
       "┡━━━━━━━━━━━━━━━━━━━━━━━━━━━━━━━━━╇━━━━━━━━━━━━━━━━━━━━━━━━╇━━━━━━━━━━━━━━━┩\n",
       "│ dense_4 (<span style=\"color: #0087ff; text-decoration-color: #0087ff\">Dense</span>)                 │ (<span style=\"color: #00d7ff; text-decoration-color: #00d7ff\">None</span>, <span style=\"color: #00af00; text-decoration-color: #00af00\">10</span>)             │            <span style=\"color: #00af00; text-decoration-color: #00af00\">30</span> │\n",
       "├─────────────────────────────────┼────────────────────────┼───────────────┤\n",
       "│ dense_5 (<span style=\"color: #0087ff; text-decoration-color: #0087ff\">Dense</span>)                 │ (<span style=\"color: #00d7ff; text-decoration-color: #00d7ff\">None</span>, <span style=\"color: #00af00; text-decoration-color: #00af00\">10</span>)             │           <span style=\"color: #00af00; text-decoration-color: #00af00\">110</span> │\n",
       "├─────────────────────────────────┼────────────────────────┼───────────────┤\n",
       "│ dense_6 (<span style=\"color: #0087ff; text-decoration-color: #0087ff\">Dense</span>)                 │ (<span style=\"color: #00d7ff; text-decoration-color: #00d7ff\">None</span>, <span style=\"color: #00af00; text-decoration-color: #00af00\">10</span>)             │           <span style=\"color: #00af00; text-decoration-color: #00af00\">110</span> │\n",
       "├─────────────────────────────────┼────────────────────────┼───────────────┤\n",
       "│ dense_7 (<span style=\"color: #0087ff; text-decoration-color: #0087ff\">Dense</span>)                 │ (<span style=\"color: #00d7ff; text-decoration-color: #00d7ff\">None</span>, <span style=\"color: #00af00; text-decoration-color: #00af00\">10</span>)             │           <span style=\"color: #00af00; text-decoration-color: #00af00\">110</span> │\n",
       "├─────────────────────────────────┼────────────────────────┼───────────────┤\n",
       "│ dense_8 (<span style=\"color: #0087ff; text-decoration-color: #0087ff\">Dense</span>)                 │ (<span style=\"color: #00d7ff; text-decoration-color: #00d7ff\">None</span>, <span style=\"color: #00af00; text-decoration-color: #00af00\">1</span>)              │            <span style=\"color: #00af00; text-decoration-color: #00af00\">11</span> │\n",
       "└─────────────────────────────────┴────────────────────────┴───────────────┘\n",
       "</pre>\n"
      ],
      "text/plain": [
       "┏━━━━━━━━━━━━━━━━━━━━━━━━━━━━━━━━━┳━━━━━━━━━━━━━━━━━━━━━━━━┳━━━━━━━━━━━━━━━┓\n",
       "┃\u001b[1m \u001b[0m\u001b[1mLayer (type)                   \u001b[0m\u001b[1m \u001b[0m┃\u001b[1m \u001b[0m\u001b[1mOutput Shape          \u001b[0m\u001b[1m \u001b[0m┃\u001b[1m \u001b[0m\u001b[1m      Param #\u001b[0m\u001b[1m \u001b[0m┃\n",
       "┡━━━━━━━━━━━━━━━━━━━━━━━━━━━━━━━━━╇━━━━━━━━━━━━━━━━━━━━━━━━╇━━━━━━━━━━━━━━━┩\n",
       "│ dense_4 (\u001b[38;5;33mDense\u001b[0m)                 │ (\u001b[38;5;45mNone\u001b[0m, \u001b[38;5;34m10\u001b[0m)             │            \u001b[38;5;34m30\u001b[0m │\n",
       "├─────────────────────────────────┼────────────────────────┼───────────────┤\n",
       "│ dense_5 (\u001b[38;5;33mDense\u001b[0m)                 │ (\u001b[38;5;45mNone\u001b[0m, \u001b[38;5;34m10\u001b[0m)             │           \u001b[38;5;34m110\u001b[0m │\n",
       "├─────────────────────────────────┼────────────────────────┼───────────────┤\n",
       "│ dense_6 (\u001b[38;5;33mDense\u001b[0m)                 │ (\u001b[38;5;45mNone\u001b[0m, \u001b[38;5;34m10\u001b[0m)             │           \u001b[38;5;34m110\u001b[0m │\n",
       "├─────────────────────────────────┼────────────────────────┼───────────────┤\n",
       "│ dense_7 (\u001b[38;5;33mDense\u001b[0m)                 │ (\u001b[38;5;45mNone\u001b[0m, \u001b[38;5;34m10\u001b[0m)             │           \u001b[38;5;34m110\u001b[0m │\n",
       "├─────────────────────────────────┼────────────────────────┼───────────────┤\n",
       "│ dense_8 (\u001b[38;5;33mDense\u001b[0m)                 │ (\u001b[38;5;45mNone\u001b[0m, \u001b[38;5;34m1\u001b[0m)              │            \u001b[38;5;34m11\u001b[0m │\n",
       "└─────────────────────────────────┴────────────────────────┴───────────────┘\n"
      ]
     },
     "metadata": {},
     "output_type": "display_data"
    },
    {
     "data": {
      "text/html": [
       "<pre style=\"white-space:pre;overflow-x:auto;line-height:normal;font-family:Menlo,'DejaVu Sans Mono',consolas,'Courier New',monospace\"><span style=\"font-weight: bold\"> Total params: </span><span style=\"color: #00af00; text-decoration-color: #00af00\">371</span> (1.45 KB)\n",
       "</pre>\n"
      ],
      "text/plain": [
       "\u001b[1m Total params: \u001b[0m\u001b[38;5;34m371\u001b[0m (1.45 KB)\n"
      ]
     },
     "metadata": {},
     "output_type": "display_data"
    },
    {
     "data": {
      "text/html": [
       "<pre style=\"white-space:pre;overflow-x:auto;line-height:normal;font-family:Menlo,'DejaVu Sans Mono',consolas,'Courier New',monospace\"><span style=\"font-weight: bold\"> Trainable params: </span><span style=\"color: #00af00; text-decoration-color: #00af00\">371</span> (1.45 KB)\n",
       "</pre>\n"
      ],
      "text/plain": [
       "\u001b[1m Trainable params: \u001b[0m\u001b[38;5;34m371\u001b[0m (1.45 KB)\n"
      ]
     },
     "metadata": {},
     "output_type": "display_data"
    },
    {
     "data": {
      "text/html": [
       "<pre style=\"white-space:pre;overflow-x:auto;line-height:normal;font-family:Menlo,'DejaVu Sans Mono',consolas,'Courier New',monospace\"><span style=\"font-weight: bold\"> Non-trainable params: </span><span style=\"color: #00af00; text-decoration-color: #00af00\">0</span> (0.00 B)\n",
       "</pre>\n"
      ],
      "text/plain": [
       "\u001b[1m Non-trainable params: \u001b[0m\u001b[38;5;34m0\u001b[0m (0.00 B)\n"
      ]
     },
     "metadata": {},
     "output_type": "display_data"
    }
   ],
   "source": [
    "model = Sequential()\n",
    "\n",
    "model.add(Dense(10,activation='relu',input_dim=2,kernel_initializer='he_normal'))\n",
    "model.add(Dense(10,activation='relu',kernel_initializer='he_normal'))\n",
    "model.add(Dense(10,activation='relu',kernel_initializer='he_normal'))\n",
    "model.add(Dense(10,activation='relu',kernel_initializer='he_normal'))\n",
    "model.add(Dense(1,activation='sigmoid'))\n",
    "\n",
    "model.summary()"
   ]
  },
  {
   "cell_type": "code",
   "execution_count": 9,
   "id": "f8350641-e4b9-4cce-98c5-fe8910ae3885",
   "metadata": {},
   "outputs": [
    {
     "data": {
      "text/plain": [
       "[array([[-0.94812703, -0.40415344,  1.1677278 ,  1.2783589 , -0.01479625,\n",
       "         -0.4254205 ,  0.93457913,  1.0644308 ,  0.2963426 , -0.700573  ],\n",
       "        [ 0.2899575 ,  1.2894279 , -0.61114347, -0.22030643,  1.3296127 ,\n",
       "          1.8732303 , -0.4775851 , -0.3761809 ,  0.31504285,  0.4591201 ]],\n",
       "       dtype=float32),\n",
       " array([0., 0., 0., 0., 0., 0., 0., 0., 0., 0.], dtype=float32),\n",
       " array([[ 0.3970288 , -0.6534053 ,  0.11381703,  0.2317399 ,  0.01248342,\n",
       "         -0.2962383 , -0.5231221 ,  0.04355262, -0.24624917,  0.65886813],\n",
       "        [ 0.509757  ,  0.10169671,  0.23092292,  0.19639419,  0.1639067 ,\n",
       "         -0.2912841 , -0.2387858 ,  0.9178374 ,  0.25245813,  0.09968515],\n",
       "        [-0.79569995,  0.01034698, -0.31541973,  0.7212561 ,  0.31425282,\n",
       "          0.13459751,  0.01453716, -0.09438168, -0.12863055, -0.4026268 ],\n",
       "        [-0.35408455,  0.70098203, -0.05141579, -0.4265638 ,  0.21718496,\n",
       "          0.26848873,  0.15219256, -0.07865278, -0.02989432, -0.48167625],\n",
       "        [-0.06343076,  0.18077491,  0.08541593, -0.20486303,  0.64042896,\n",
       "          0.13948895,  0.19111612, -0.05397904, -0.39875713, -0.13264555],\n",
       "        [-0.3008378 , -0.24194132,  0.87379104, -0.04920287,  0.4582074 ,\n",
       "          0.0677049 , -0.43833208,  0.7853999 , -0.04656683,  0.4341553 ],\n",
       "        [-0.39212096, -0.2521114 ,  0.513645  ,  0.22593985,  0.24979334,\n",
       "          0.21910436, -0.854192  , -0.22763582, -0.16084582, -0.26542008],\n",
       "        [-0.2580162 ,  0.2602199 ,  0.3929886 , -0.2821048 , -0.88705826,\n",
       "          0.27365997,  0.3400491 ,  0.4705979 ,  0.8554064 , -0.85994846],\n",
       "        [-0.50325567, -0.14929134, -0.0665649 ,  0.6462883 ,  0.06746308,\n",
       "         -0.42773697,  0.00446235, -0.03003217,  0.2990634 , -0.08148141],\n",
       "        [-0.49177095, -0.06251065, -0.2706787 , -0.2707577 , -0.7419225 ,\n",
       "          0.09884822,  0.23069742,  0.00889837,  0.18102959, -0.40758923]],\n",
       "       dtype=float32),\n",
       " array([0., 0., 0., 0., 0., 0., 0., 0., 0., 0.], dtype=float32),\n",
       " array([[-0.24933767, -0.20985746, -0.40430805,  0.6254103 ,  0.02900899,\n",
       "          0.488838  ,  0.13852826, -0.2251308 , -0.11411899,  0.1684649 ],\n",
       "        [ 0.13485888,  0.41771752,  0.19921397, -0.6732236 ,  0.3393545 ,\n",
       "          0.19005154, -0.08389041, -0.4616573 , -0.20008695, -0.12586494],\n",
       "        [ 0.49536985,  0.6737415 , -0.10664169,  0.6121758 ,  0.4670543 ,\n",
       "          0.1620709 ,  0.6526961 ,  0.2651917 ,  0.42748454,  0.26436248],\n",
       "        [ 0.26977172,  0.02210543, -0.16347145, -0.6118473 ,  0.3027501 ,\n",
       "         -0.07721082, -0.23958777,  0.25439134,  0.5111466 ,  0.22566377],\n",
       "        [-0.10428409,  0.3563767 , -0.9660706 ,  0.26490217, -0.19695826,\n",
       "         -0.00332864, -0.33166853,  0.35387245,  0.02309244,  0.4966913 ],\n",
       "        [-0.93906   , -0.47964722,  0.18105502,  0.5500989 ,  0.23037654,\n",
       "          0.54763085, -0.14756982,  0.3886742 ,  0.6380316 , -0.23105522],\n",
       "        [-0.26479712,  0.12371694,  0.8581548 ,  0.2982052 ,  0.07108319,\n",
       "          0.3114962 ,  0.1846959 ,  0.57288307,  0.4868151 , -0.08555636],\n",
       "        [-0.30098286, -0.18467642,  0.8039405 , -0.04312608, -0.00109707,\n",
       "          0.91932213,  0.3969632 ,  0.41685537,  0.30290225,  0.69949937],\n",
       "        [ 0.4638812 , -0.16910864, -0.33794835, -0.55873054,  0.52907   ,\n",
       "          0.07037249,  0.5072609 ,  0.46389386,  0.7145753 ,  0.8688    ],\n",
       "        [-0.3240371 , -0.45084515,  0.35965994, -0.4760814 , -0.03586183,\n",
       "          0.6551303 , -0.4096135 , -0.4405501 , -0.62477654,  0.47934318]],\n",
       "       dtype=float32),\n",
       " array([0., 0., 0., 0., 0., 0., 0., 0., 0., 0.], dtype=float32),\n",
       " array([[-0.93580604,  0.27878028, -0.351948  ,  0.55838805, -0.3784666 ,\n",
       "         -0.2920109 ,  0.36468548,  0.33591634, -0.21534576,  0.2274968 ],\n",
       "        [-0.11745962, -0.20959759,  0.11084499,  0.57803303,  0.02093944,\n",
       "          0.13918637, -0.64872265, -0.19491684, -0.38801616,  0.1827114 ],\n",
       "        [-0.20783582,  0.00371689, -0.6094626 , -0.04313855, -0.54037076,\n",
       "          0.22159055, -0.8503776 ,  0.52663624, -0.10577334,  0.43987462],\n",
       "        [ 0.13536449,  0.20296127, -0.41225868, -0.03119627,  0.26839787,\n",
       "          1.0164462 , -0.392143  ,  0.3972869 ,  0.33163854, -0.40931806],\n",
       "        [ 0.52658015,  0.48055562,  0.81609833, -0.5316387 ,  0.0440534 ,\n",
       "          0.78877336,  0.05653915, -0.05650435,  0.01503146, -0.8210199 ],\n",
       "        [ 0.59773153,  0.7738538 ,  0.41095197,  0.34275895, -0.11344703,\n",
       "          0.6359824 , -0.12652266,  0.3954395 ,  0.02446606,  0.9299752 ],\n",
       "        [ 0.3835095 ,  0.03228459,  0.21319519,  0.18968508,  0.5423922 ,\n",
       "          0.5454272 ,  0.03755377, -0.3438593 ,  0.06710064, -0.30873102],\n",
       "        [ 0.05447942,  0.36661956, -0.43076262, -0.10487081, -0.09051517,\n",
       "         -0.16390838, -0.8687039 ,  0.4807348 ,  0.63357717, -0.04232649],\n",
       "        [-0.18507893, -0.23857316, -0.30346578, -0.14832437,  0.6053458 ,\n",
       "          0.2009291 ,  0.3589476 , -0.6060378 , -0.11958339, -0.9404924 ],\n",
       "        [ 0.7255592 , -0.08808205,  0.44934794,  0.32378918,  0.5760464 ,\n",
       "         -0.43608806,  0.3064997 , -0.21707706,  0.17005736, -0.5271473 ]],\n",
       "       dtype=float32),\n",
       " array([0., 0., 0., 0., 0., 0., 0., 0., 0., 0.], dtype=float32),\n",
       " array([[ 0.6574976 ],\n",
       "        [-0.44487077],\n",
       "        [ 0.36637336],\n",
       "        [-0.71382606],\n",
       "        [ 0.08412015],\n",
       "        [ 0.0018577 ],\n",
       "        [ 0.0136736 ],\n",
       "        [-0.62530786],\n",
       "        [ 0.54113346],\n",
       "        [-0.602985  ]], dtype=float32),\n",
       " array([0.], dtype=float32)]"
      ]
     },
     "execution_count": 9,
     "metadata": {},
     "output_type": "execute_result"
    }
   ],
   "source": [
    "model.get_weights()"
   ]
  },
  {
   "cell_type": "code",
   "execution_count": 10,
   "id": "6773dc4d-658b-4e7e-a750-ae77603111df",
   "metadata": {},
   "outputs": [],
   "source": [
    "initial_weights = model.get_weights()"
   ]
  },
  {
   "cell_type": "code",
   "execution_count": 11,
   "id": "8db2822d-28ec-44b8-b44e-ec01870aac47",
   "metadata": {},
   "outputs": [],
   "source": [
    "initial_weights[0] = np.random.randn(2,10)*np.sqrt(1/2)\n",
    "initial_weights[1] = np.zeros(model.get_weights()[1].shape)\n",
    "initial_weights[2] = np.random.randn(10,10)*np.sqrt(1/10)\n",
    "initial_weights[3] = np.zeros(model.get_weights()[3].shape)\n",
    "initial_weights[4] = np.random.randn(10,10)*np.sqrt(1/10)\n",
    "initial_weights[5] = np.zeros(model.get_weights()[5].shape)\n",
    "initial_weights[6] = np.random.randn(10,10)*np.sqrt(1/10)\n",
    "initial_weights[7] = np.zeros(model.get_weights()[7].shape)\n",
    "initial_weights[8] = np.random.randn(10,1)*np.sqrt(1/10)\n",
    "initial_weights[9] = np.zeros(model.get_weights()[9].shape)"
   ]
  },
  {
   "cell_type": "code",
   "execution_count": 12,
   "id": "2d9745ea-5544-48b6-ba6f-5713f5748288",
   "metadata": {},
   "outputs": [],
   "source": [
    "model.set_weights(initial_weights)"
   ]
  },
  {
   "cell_type": "code",
   "execution_count": 13,
   "id": "c07f722a-1ba1-485c-bfb8-525351565b75",
   "metadata": {},
   "outputs": [
    {
     "data": {
      "text/plain": [
       "[array([[-3.0322422e-04,  8.8112319e-01, -4.0295628e-01, -1.0604736e+00,\n",
       "         -6.2727392e-01, -3.7787160e-01, -8.6969751e-01,  3.1121773e-01,\n",
       "          2.8318352e-01,  1.5665875e-01],\n",
       "        [ 1.5980784e+00,  1.2272022e+00,  2.8316388e-01, -8.4227103e-01,\n",
       "         -2.6897600e-01, -1.1650691e+00, -2.9002130e-01, -4.1027007e-01,\n",
       "          4.8492560e-01,  5.2988273e-01]], dtype=float32),\n",
       " array([0., 0., 0., 0., 0., 0., 0., 0., 0., 0.], dtype=float32),\n",
       " array([[-3.9250389e-02,  5.6253515e-02, -4.1640756e-01, -5.1352280e-01,\n",
       "         -2.6988292e-01,  7.2895072e-02, -2.3679604e-01, -8.8029191e-02,\n",
       "         -2.1867274e-01, -6.6239484e-02],\n",
       "        [ 1.6032596e-01,  4.5894739e-01,  1.2060520e-01, -4.8806769e-01,\n",
       "         -2.7027965e-01,  9.9243186e-02,  3.1181085e-01,  2.1039699e-01,\n",
       "          1.2601453e-01, -3.8231313e-01],\n",
       "        [ 5.9522879e-01,  1.2828687e-01,  5.7618219e-01,  6.4721137e-01,\n",
       "          2.4230278e-01, -4.4900969e-01,  4.6171594e-01,  5.5060190e-01,\n",
       "          2.3454228e-01,  1.1136838e-01],\n",
       "        [ 4.8581210e-01, -6.2545955e-02,  1.9796179e-01,  2.7049044e-01,\n",
       "         -3.0963722e-01, -2.1924400e-01,  3.1245288e-01, -8.4674066e-01,\n",
       "         -2.6513750e-02, -1.0383881e-01],\n",
       "        [ 2.3148337e-03, -4.9333021e-02, -9.5797114e-02, -5.0530261e-01,\n",
       "          6.6091701e-02,  5.3967202e-01, -8.8151596e-02, -6.3888198e-01,\n",
       "         -1.0641897e-01, -1.9020040e-01],\n",
       "        [ 3.9565995e-01, -3.9202195e-02,  8.5371882e-02, -4.9650574e-01,\n",
       "          3.6986917e-01, -6.8962671e-02,  3.5179907e-01, -2.4885422e-01,\n",
       "          2.9868117e-02, -8.7333836e-02],\n",
       "        [ 1.0924761e-01, -5.1814061e-02,  4.3711755e-01,  4.6285456e-01,\n",
       "          6.9546975e-02,  4.6462659e-03, -7.6984406e-01,  3.9500263e-02,\n",
       "         -8.3555453e-02,  3.4942451e-01],\n",
       "        [-2.7799452e-02, -3.7069380e-01,  6.1765748e-01, -1.9265696e-01,\n",
       "          3.4190187e-01, -3.0763173e-01,  1.3988788e-01,  3.6505532e-02,\n",
       "         -3.2578111e-02, -2.7717575e-01],\n",
       "        [ 1.5738367e-01, -5.4370326e-01,  1.4556149e-01, -1.6099066e-01,\n",
       "          4.1288272e-01,  1.9795381e-01, -9.1722883e-02, -2.5321725e-01,\n",
       "         -1.6401230e-01, -8.0731109e-04],\n",
       "        [ 7.4138064e-03, -1.8401106e-01, -9.4256893e-02,  5.1599622e-01,\n",
       "          9.6000773e-01,  4.5296326e-01, -7.0477575e-02, -2.8780866e-01,\n",
       "          2.7762604e-01, -1.9957435e-01]], dtype=float32),\n",
       " array([0., 0., 0., 0., 0., 0., 0., 0., 0., 0.], dtype=float32),\n",
       " array([[ 0.6199877 ,  0.04608562, -0.45965433,  0.5957789 , -0.26082173,\n",
       "          0.26503125, -0.32881838, -0.00666362,  0.21712135,  0.37971357],\n",
       "        [ 0.27413806, -0.4184039 , -0.4612321 , -0.573422  , -0.22383064,\n",
       "         -0.21983378,  0.05258413, -0.2058287 , -0.19913194, -0.2006471 ],\n",
       "        [ 0.04043309,  0.67002386,  0.1452944 , -0.26475546, -0.12565602,\n",
       "          0.1410404 ,  0.01085576,  0.6070845 , -0.26177004, -0.14871195],\n",
       "        [-0.17931291, -0.10586119,  0.5213343 , -0.23722894, -0.37801728,\n",
       "         -0.3267221 , -0.2553765 ,  0.12369648,  0.15053554,  0.67351526],\n",
       "        [ 0.562782  , -0.04247841,  0.5124575 , -0.12798193, -0.1597976 ,\n",
       "          0.22064982,  0.00363435, -0.18032998, -0.26622888,  0.6203779 ],\n",
       "        [ 0.2992005 , -0.12012812, -0.38678628,  0.20058689,  0.29221767,\n",
       "         -0.20060514,  0.14511731,  0.20478372, -0.6164285 , -0.8028321 ],\n",
       "        [ 0.02563609, -0.13277501, -0.41897434, -0.7624    , -0.2956216 ,\n",
       "         -0.306605  ,  0.07232822,  0.47027197,  0.52338624, -0.1010299 ],\n",
       "        [ 0.01657422, -0.916403  , -0.52727205,  0.05556894,  0.39592505,\n",
       "         -0.23727502, -0.10540009, -0.12812412, -0.17575903, -0.69734716],\n",
       "        [ 0.37301645,  0.46966493, -0.14938256, -0.00853601,  0.20762298,\n",
       "         -0.06751702,  0.40045536, -0.40278795, -0.02213627, -0.1848343 ],\n",
       "        [-0.01406639, -0.02825358, -0.03210211,  0.164933  ,  0.12792489,\n",
       "          0.4069139 , -0.37615988, -0.06209874,  0.1300281 , -0.09713118]],\n",
       "       dtype=float32),\n",
       " array([0., 0., 0., 0., 0., 0., 0., 0., 0., 0.], dtype=float32),\n",
       " array([[-1.4214180e-01, -2.8190795e-01, -1.4996222e-02, -1.8056326e-01,\n",
       "          2.9075563e-01,  5.0942111e-01, -3.1434557e-01, -1.7747393e-02,\n",
       "         -7.8833036e-02, -9.7771645e-02],\n",
       "        [ 6.2309313e-01,  4.4749886e-01,  5.8737386e-02,  7.4623689e-02,\n",
       "          2.1940695e-01,  2.0152377e-02,  3.1312856e-01, -7.6651581e-02,\n",
       "         -6.7815252e-02, -4.5257786e-01],\n",
       "        [-1.5347932e-01, -2.6670575e-01,  3.8865140e-01,  2.5780293e-01,\n",
       "         -3.9049018e-02, -3.5510141e-01,  4.9914989e-01,  3.2815626e-01,\n",
       "          1.5957452e-01, -3.1574991e-02],\n",
       "        [ 7.0504022e-05, -6.6761887e-01,  2.1195869e-01, -1.6231239e-01,\n",
       "         -3.8373178e-01,  8.5702360e-02, -3.2992211e-01, -1.9241615e-01,\n",
       "         -2.0368722e-01,  2.8195822e-01],\n",
       "        [ 5.9945232e-01, -1.1607615e-01, -2.1013169e-01, -2.8543347e-01,\n",
       "          1.8313363e-02, -3.7675196e-01,  6.6033781e-01,  2.0169410e-01,\n",
       "          1.5093359e-01,  8.0655761e-02],\n",
       "        [ 3.1051910e-01,  4.6366889e-02, -2.5166985e-01, -8.3754107e-02,\n",
       "          1.8500793e-01,  7.5609468e-02,  2.6610168e-02,  2.6884818e-02,\n",
       "         -1.4774269e-01,  6.4991914e-02],\n",
       "        [-5.7309814e-02, -1.6280772e-01,  5.1423180e-01,  1.5518492e-01,\n",
       "         -2.5915512e-01,  6.5497077e-01, -2.7553704e-01,  6.5737635e-01,\n",
       "          6.9614962e-02,  6.1950046e-01],\n",
       "        [ 4.5360985e-01, -7.3885840e-01,  2.0576218e-01,  1.0551245e-01,\n",
       "          8.3861685e-01, -6.6294217e-01, -2.7559090e-01,  1.5577307e-01,\n",
       "         -4.1508791e-01,  1.0814455e-01],\n",
       "        [ 1.5975431e-03, -2.4448456e-02,  9.4362102e-02,  1.4036414e-01,\n",
       "          6.8351448e-01,  1.6360739e-01, -1.0419767e-01, -1.5311477e-01,\n",
       "         -9.9522151e-02, -2.3522679e-02],\n",
       "        [-3.1611219e-01, -9.5386051e-02,  2.2190323e-01,  1.9827375e-01,\n",
       "         -3.0928642e-01,  2.2192708e-01, -3.6066598e-01,  3.5632026e-01,\n",
       "          1.1665458e-01, -4.1745227e-02]], dtype=float32),\n",
       " array([0., 0., 0., 0., 0., 0., 0., 0., 0., 0.], dtype=float32),\n",
       " array([[ 0.05581177],\n",
       "        [-0.44822118],\n",
       "        [-0.24976596],\n",
       "        [-0.33364376],\n",
       "        [ 0.41876024],\n",
       "        [ 0.15056357],\n",
       "        [-0.01082773],\n",
       "        [-0.83039   ],\n",
       "        [ 0.22982879],\n",
       "        [-0.18378797]], dtype=float32),\n",
       " array([0.], dtype=float32)]"
      ]
     },
     "execution_count": 13,
     "metadata": {},
     "output_type": "execute_result"
    }
   ],
   "source": [
    "model.get_weights()"
   ]
  },
  {
   "cell_type": "code",
   "execution_count": 14,
   "id": "aed2814a-4b4c-4b69-bef1-8060660e21f8",
   "metadata": {},
   "outputs": [],
   "source": [
    "model.compile(loss='binary_crossentropy', optimizer='adam', metrics=['accuracy'])"
   ]
  },
  {
   "cell_type": "code",
   "execution_count": 15,
   "id": "b87fe710-6085-4e96-b2e0-8fa621327dbe",
   "metadata": {},
   "outputs": [
    {
     "name": "stdout",
     "output_type": "stream",
     "text": [
      "Epoch 1/100\n",
      "\u001b[1m3/3\u001b[0m \u001b[32m━━━━━━━━━━━━━━━━━━━━\u001b[0m\u001b[37m\u001b[0m \u001b[1m1s\u001b[0m 79ms/step - accuracy: 0.4954 - loss: 0.6922 - val_accuracy: 0.5000 - val_loss: 0.6844\n",
      "Epoch 2/100\n",
      "\u001b[1m3/3\u001b[0m \u001b[32m━━━━━━━━━━━━━━━━━━━━\u001b[0m\u001b[37m\u001b[0m \u001b[1m0s\u001b[0m 15ms/step - accuracy: 0.5149 - loss: 0.6860 - val_accuracy: 0.4500 - val_loss: 0.6795\n",
      "Epoch 3/100\n",
      "\u001b[1m3/3\u001b[0m \u001b[32m━━━━━━━━━━━━━━━━━━━━\u001b[0m\u001b[37m\u001b[0m \u001b[1m0s\u001b[0m 15ms/step - accuracy: 0.5134 - loss: 0.6828 - val_accuracy: 0.4500 - val_loss: 0.6748\n",
      "Epoch 4/100\n",
      "\u001b[1m3/3\u001b[0m \u001b[32m━━━━━━━━━━━━━━━━━━━━\u001b[0m\u001b[37m\u001b[0m \u001b[1m0s\u001b[0m 14ms/step - accuracy: 0.4885 - loss: 0.6794 - val_accuracy: 0.5000 - val_loss: 0.6700\n",
      "Epoch 5/100\n",
      "\u001b[1m3/3\u001b[0m \u001b[32m━━━━━━━━━━━━━━━━━━━━\u001b[0m\u001b[37m\u001b[0m \u001b[1m0s\u001b[0m 29ms/step - accuracy: 0.5495 - loss: 0.6743 - val_accuracy: 0.5000 - val_loss: 0.6654\n",
      "Epoch 6/100\n",
      "\u001b[1m3/3\u001b[0m \u001b[32m━━━━━━━━━━━━━━━━━━━━\u001b[0m\u001b[37m\u001b[0m \u001b[1m0s\u001b[0m 20ms/step - accuracy: 0.5149 - loss: 0.6639 - val_accuracy: 0.6000 - val_loss: 0.6606\n",
      "Epoch 7/100\n",
      "\u001b[1m3/3\u001b[0m \u001b[32m━━━━━━━━━━━━━━━━━━━━\u001b[0m\u001b[37m\u001b[0m \u001b[1m0s\u001b[0m 15ms/step - accuracy: 0.5314 - loss: 0.6621 - val_accuracy: 0.7000 - val_loss: 0.6558\n",
      "Epoch 8/100\n",
      "\u001b[1m3/3\u001b[0m \u001b[32m━━━━━━━━━━━━━━━━━━━━\u001b[0m\u001b[37m\u001b[0m \u001b[1m0s\u001b[0m 15ms/step - accuracy: 0.5631 - loss: 0.6589 - val_accuracy: 0.8000 - val_loss: 0.6511\n",
      "Epoch 9/100\n",
      "\u001b[1m3/3\u001b[0m \u001b[32m━━━━━━━━━━━━━━━━━━━━\u001b[0m\u001b[37m\u001b[0m \u001b[1m0s\u001b[0m 16ms/step - accuracy: 0.6606 - loss: 0.6569 - val_accuracy: 0.8000 - val_loss: 0.6462\n",
      "Epoch 10/100\n",
      "\u001b[1m3/3\u001b[0m \u001b[32m━━━━━━━━━━━━━━━━━━━━\u001b[0m\u001b[37m\u001b[0m \u001b[1m0s\u001b[0m 15ms/step - accuracy: 0.7626 - loss: 0.6480 - val_accuracy: 0.8000 - val_loss: 0.6410\n",
      "Epoch 11/100\n",
      "\u001b[1m3/3\u001b[0m \u001b[32m━━━━━━━━━━━━━━━━━━━━\u001b[0m\u001b[37m\u001b[0m \u001b[1m0s\u001b[0m 24ms/step - accuracy: 0.7791 - loss: 0.6492 - val_accuracy: 0.8000 - val_loss: 0.6360\n",
      "Epoch 12/100\n",
      "\u001b[1m3/3\u001b[0m \u001b[32m━━━━━━━━━━━━━━━━━━━━\u001b[0m\u001b[37m\u001b[0m \u001b[1m0s\u001b[0m 15ms/step - accuracy: 0.7830 - loss: 0.6396 - val_accuracy: 0.8000 - val_loss: 0.6304\n",
      "Epoch 13/100\n",
      "\u001b[1m3/3\u001b[0m \u001b[32m━━━━━━━━━━━━━━━━━━━━\u001b[0m\u001b[37m\u001b[0m \u001b[1m0s\u001b[0m 16ms/step - accuracy: 0.7987 - loss: 0.6297 - val_accuracy: 0.8000 - val_loss: 0.6246\n",
      "Epoch 14/100\n",
      "\u001b[1m3/3\u001b[0m \u001b[32m━━━━━━━━━━━━━━━━━━━━\u001b[0m\u001b[37m\u001b[0m \u001b[1m0s\u001b[0m 22ms/step - accuracy: 0.7440 - loss: 0.6402 - val_accuracy: 0.8000 - val_loss: 0.6184\n",
      "Epoch 15/100\n",
      "\u001b[1m3/3\u001b[0m \u001b[32m━━━━━━━━━━━━━━━━━━━━\u001b[0m\u001b[37m\u001b[0m \u001b[1m0s\u001b[0m 15ms/step - accuracy: 0.7713 - loss: 0.6319 - val_accuracy: 0.8000 - val_loss: 0.6120\n",
      "Epoch 16/100\n",
      "\u001b[1m3/3\u001b[0m \u001b[32m━━━━━━━━━━━━━━━━━━━━\u001b[0m\u001b[37m\u001b[0m \u001b[1m0s\u001b[0m 20ms/step - accuracy: 0.8113 - loss: 0.6229 - val_accuracy: 0.8000 - val_loss: 0.6048\n",
      "Epoch 17/100\n",
      "\u001b[1m3/3\u001b[0m \u001b[32m━━━━━━━━━━━━━━━━━━━━\u001b[0m\u001b[37m\u001b[0m \u001b[1m0s\u001b[0m 15ms/step - accuracy: 0.8230 - loss: 0.6125 - val_accuracy: 0.8000 - val_loss: 0.5969\n",
      "Epoch 18/100\n",
      "\u001b[1m3/3\u001b[0m \u001b[32m━━━━━━━━━━━━━━━━━━━━\u001b[0m\u001b[37m\u001b[0m \u001b[1m0s\u001b[0m 37ms/step - accuracy: 0.8035 - loss: 0.6096 - val_accuracy: 0.8500 - val_loss: 0.5887\n",
      "Epoch 19/100\n",
      "\u001b[1m3/3\u001b[0m \u001b[32m━━━━━━━━━━━━━━━━━━━━\u001b[0m\u001b[37m\u001b[0m \u001b[1m0s\u001b[0m 14ms/step - accuracy: 0.8348 - loss: 0.6018 - val_accuracy: 0.9000 - val_loss: 0.5800\n",
      "Epoch 20/100\n",
      "\u001b[1m3/3\u001b[0m \u001b[32m━━━━━━━━━━━━━━━━━━━━\u001b[0m\u001b[37m\u001b[0m \u001b[1m0s\u001b[0m 18ms/step - accuracy: 0.8176 - loss: 0.6037 - val_accuracy: 0.9000 - val_loss: 0.5710\n",
      "Epoch 21/100\n",
      "\u001b[1m3/3\u001b[0m \u001b[32m━━━━━━━━━━━━━━━━━━━━\u001b[0m\u001b[37m\u001b[0m \u001b[1m0s\u001b[0m 17ms/step - accuracy: 0.8255 - loss: 0.5904 - val_accuracy: 0.9000 - val_loss: 0.5613\n",
      "Epoch 22/100\n",
      "\u001b[1m3/3\u001b[0m \u001b[32m━━━━━━━━━━━━━━━━━━━━\u001b[0m\u001b[37m\u001b[0m \u001b[1m0s\u001b[0m 15ms/step - accuracy: 0.8059 - loss: 0.5787 - val_accuracy: 0.9000 - val_loss: 0.5514\n",
      "Epoch 23/100\n",
      "\u001b[1m3/3\u001b[0m \u001b[32m━━━━━━━━━━━━━━━━━━━━\u001b[0m\u001b[37m\u001b[0m \u001b[1m0s\u001b[0m 16ms/step - accuracy: 0.8372 - loss: 0.5764 - val_accuracy: 0.9000 - val_loss: 0.5409\n",
      "Epoch 24/100\n",
      "\u001b[1m3/3\u001b[0m \u001b[32m━━━━━━━━━━━━━━━━━━━━\u001b[0m\u001b[37m\u001b[0m \u001b[1m0s\u001b[0m 18ms/step - accuracy: 0.8230 - loss: 0.5668 - val_accuracy: 0.9000 - val_loss: 0.5305\n",
      "Epoch 25/100\n",
      "\u001b[1m3/3\u001b[0m \u001b[32m━━━━━━━━━━━━━━━━━━━━\u001b[0m\u001b[37m\u001b[0m \u001b[1m0s\u001b[0m 20ms/step - accuracy: 0.7996 - loss: 0.5642 - val_accuracy: 0.9000 - val_loss: 0.5205\n",
      "Epoch 26/100\n",
      "\u001b[1m3/3\u001b[0m \u001b[32m━━━━━━━━━━━━━━━━━━━━\u001b[0m\u001b[37m\u001b[0m \u001b[1m0s\u001b[0m 17ms/step - accuracy: 0.8035 - loss: 0.5660 - val_accuracy: 0.9000 - val_loss: 0.5103\n",
      "Epoch 27/100\n",
      "\u001b[1m3/3\u001b[0m \u001b[32m━━━━━━━━━━━━━━━━━━━━\u001b[0m\u001b[37m\u001b[0m \u001b[1m0s\u001b[0m 17ms/step - accuracy: 0.8348 - loss: 0.5447 - val_accuracy: 0.9000 - val_loss: 0.4993\n",
      "Epoch 28/100\n",
      "\u001b[1m3/3\u001b[0m \u001b[32m━━━━━━━━━━━━━━━━━━━━\u001b[0m\u001b[37m\u001b[0m \u001b[1m0s\u001b[0m 19ms/step - accuracy: 0.7879 - loss: 0.5572 - val_accuracy: 0.9000 - val_loss: 0.4885\n",
      "Epoch 29/100\n",
      "\u001b[1m3/3\u001b[0m \u001b[32m━━━━━━━━━━━━━━━━━━━━\u001b[0m\u001b[37m\u001b[0m \u001b[1m0s\u001b[0m 18ms/step - accuracy: 0.8152 - loss: 0.5314 - val_accuracy: 0.9000 - val_loss: 0.4770\n",
      "Epoch 30/100\n",
      "\u001b[1m3/3\u001b[0m \u001b[32m━━━━━━━━━━━━━━━━━━━━\u001b[0m\u001b[37m\u001b[0m \u001b[1m0s\u001b[0m 17ms/step - accuracy: 0.8152 - loss: 0.5177 - val_accuracy: 0.9000 - val_loss: 0.4657\n",
      "Epoch 31/100\n",
      "\u001b[1m3/3\u001b[0m \u001b[32m━━━━━━━━━━━━━━━━━━━━\u001b[0m\u001b[37m\u001b[0m \u001b[1m0s\u001b[0m 13ms/step - accuracy: 0.8152 - loss: 0.5195 - val_accuracy: 0.9000 - val_loss: 0.4545\n",
      "Epoch 32/100\n",
      "\u001b[1m3/3\u001b[0m \u001b[32m━━━━━━━━━━━━━━━━━━━━\u001b[0m\u001b[37m\u001b[0m \u001b[1m0s\u001b[0m 19ms/step - accuracy: 0.8255 - loss: 0.5161 - val_accuracy: 0.9000 - val_loss: 0.4431\n",
      "Epoch 33/100\n",
      "\u001b[1m3/3\u001b[0m \u001b[32m━━━━━━━━━━━━━━━━━━━━\u001b[0m\u001b[37m\u001b[0m \u001b[1m0s\u001b[0m 20ms/step - accuracy: 0.8255 - loss: 0.5156 - val_accuracy: 0.9000 - val_loss: 0.4318\n",
      "Epoch 34/100\n",
      "\u001b[1m3/3\u001b[0m \u001b[32m━━━━━━━━━━━━━━━━━━━━\u001b[0m\u001b[37m\u001b[0m \u001b[1m0s\u001b[0m 16ms/step - accuracy: 0.8215 - loss: 0.4932 - val_accuracy: 0.9000 - val_loss: 0.4206\n",
      "Epoch 35/100\n",
      "\u001b[1m3/3\u001b[0m \u001b[32m━━━━━━━━━━━━━━━━━━━━\u001b[0m\u001b[37m\u001b[0m \u001b[1m0s\u001b[0m 17ms/step - accuracy: 0.8215 - loss: 0.4982 - val_accuracy: 0.9000 - val_loss: 0.4097\n",
      "Epoch 36/100\n",
      "\u001b[1m3/3\u001b[0m \u001b[32m━━━━━━━━━━━━━━━━━━━━\u001b[0m\u001b[37m\u001b[0m \u001b[1m0s\u001b[0m 19ms/step - accuracy: 0.7903 - loss: 0.4985 - val_accuracy: 0.9000 - val_loss: 0.3988\n",
      "Epoch 37/100\n",
      "\u001b[1m3/3\u001b[0m \u001b[32m━━━━━━━━━━━━━━━━━━━━\u001b[0m\u001b[37m\u001b[0m \u001b[1m0s\u001b[0m 14ms/step - accuracy: 0.8176 - loss: 0.4759 - val_accuracy: 0.9000 - val_loss: 0.3879\n",
      "Epoch 38/100\n",
      "\u001b[1m3/3\u001b[0m \u001b[32m━━━━━━━━━━━━━━━━━━━━\u001b[0m\u001b[37m\u001b[0m \u001b[1m0s\u001b[0m 13ms/step - accuracy: 0.8645 - loss: 0.4437 - val_accuracy: 0.9000 - val_loss: 0.3772\n",
      "Epoch 39/100\n",
      "\u001b[1m3/3\u001b[0m \u001b[32m━━━━━━━━━━━━━━━━━━━━\u001b[0m\u001b[37m\u001b[0m \u001b[1m0s\u001b[0m 18ms/step - accuracy: 0.8333 - loss: 0.4622 - val_accuracy: 0.9000 - val_loss: 0.3675\n",
      "Epoch 40/100\n",
      "\u001b[1m3/3\u001b[0m \u001b[32m━━━━━━━━━━━━━━━━━━━━\u001b[0m\u001b[37m\u001b[0m \u001b[1m0s\u001b[0m 24ms/step - accuracy: 0.8176 - loss: 0.4658 - val_accuracy: 0.9000 - val_loss: 0.3580\n",
      "Epoch 41/100\n",
      "\u001b[1m3/3\u001b[0m \u001b[32m━━━━━━━━━━━━━━━━━━━━\u001b[0m\u001b[37m\u001b[0m \u001b[1m0s\u001b[0m 14ms/step - accuracy: 0.8176 - loss: 0.4529 - val_accuracy: 0.9000 - val_loss: 0.3485\n",
      "Epoch 42/100\n",
      "\u001b[1m3/3\u001b[0m \u001b[32m━━━━━━━━━━━━━━━━━━━━\u001b[0m\u001b[37m\u001b[0m \u001b[1m0s\u001b[0m 13ms/step - accuracy: 0.8255 - loss: 0.4531 - val_accuracy: 0.9500 - val_loss: 0.3394\n",
      "Epoch 43/100\n",
      "\u001b[1m3/3\u001b[0m \u001b[32m━━━━━━━━━━━━━━━━━━━━\u001b[0m\u001b[37m\u001b[0m \u001b[1m0s\u001b[0m 18ms/step - accuracy: 0.8357 - loss: 0.4211 - val_accuracy: 0.9500 - val_loss: 0.3306\n",
      "Epoch 44/100\n",
      "\u001b[1m3/3\u001b[0m \u001b[32m━━━━━━━━━━━━━━━━━━━━\u001b[0m\u001b[37m\u001b[0m \u001b[1m0s\u001b[0m 15ms/step - accuracy: 0.8279 - loss: 0.4351 - val_accuracy: 0.9500 - val_loss: 0.3224\n",
      "Epoch 45/100\n",
      "\u001b[1m3/3\u001b[0m \u001b[32m━━━━━━━━━━━━━━━━━━━━\u001b[0m\u001b[37m\u001b[0m \u001b[1m0s\u001b[0m 13ms/step - accuracy: 0.8357 - loss: 0.4260 - val_accuracy: 0.9500 - val_loss: 0.3144\n",
      "Epoch 46/100\n",
      "\u001b[1m3/3\u001b[0m \u001b[32m━━━━━━━━━━━━━━━━━━━━\u001b[0m\u001b[37m\u001b[0m \u001b[1m0s\u001b[0m 14ms/step - accuracy: 0.8396 - loss: 0.4199 - val_accuracy: 0.9500 - val_loss: 0.3069\n",
      "Epoch 47/100\n",
      "\u001b[1m3/3\u001b[0m \u001b[32m━━━━━━━━━━━━━━━━━━━━\u001b[0m\u001b[37m\u001b[0m \u001b[1m0s\u001b[0m 21ms/step - accuracy: 0.8552 - loss: 0.4172 - val_accuracy: 0.9500 - val_loss: 0.2992\n",
      "Epoch 48/100\n",
      "\u001b[1m3/3\u001b[0m \u001b[32m━━━━━━━━━━━━━━━━━━━━\u001b[0m\u001b[37m\u001b[0m \u001b[1m0s\u001b[0m 15ms/step - accuracy: 0.8186 - loss: 0.4308 - val_accuracy: 0.9500 - val_loss: 0.2915\n",
      "Epoch 49/100\n",
      "\u001b[1m3/3\u001b[0m \u001b[32m━━━━━━━━━━━━━━━━━━━━\u001b[0m\u001b[37m\u001b[0m \u001b[1m0s\u001b[0m 17ms/step - accuracy: 0.8381 - loss: 0.4140 - val_accuracy: 0.9500 - val_loss: 0.2837\n",
      "Epoch 50/100\n",
      "\u001b[1m3/3\u001b[0m \u001b[32m━━━━━━━━━━━━━━━━━━━━\u001b[0m\u001b[37m\u001b[0m \u001b[1m0s\u001b[0m 13ms/step - accuracy: 0.8342 - loss: 0.4038 - val_accuracy: 0.9500 - val_loss: 0.2762\n",
      "Epoch 51/100\n",
      "\u001b[1m3/3\u001b[0m \u001b[32m━━━━━━━━━━━━━━━━━━━━\u001b[0m\u001b[37m\u001b[0m \u001b[1m0s\u001b[0m 15ms/step - accuracy: 0.8444 - loss: 0.3985 - val_accuracy: 0.9500 - val_loss: 0.2686\n",
      "Epoch 52/100\n",
      "\u001b[1m3/3\u001b[0m \u001b[32m━━━━━━━━━━━━━━━━━━━━\u001b[0m\u001b[37m\u001b[0m \u001b[1m0s\u001b[0m 12ms/step - accuracy: 0.8444 - loss: 0.4131 - val_accuracy: 0.9500 - val_loss: 0.2614\n",
      "Epoch 53/100\n",
      "\u001b[1m3/3\u001b[0m \u001b[32m━━━━━━━━━━━━━━━━━━━━\u001b[0m\u001b[37m\u001b[0m \u001b[1m0s\u001b[0m 13ms/step - accuracy: 0.8601 - loss: 0.3713 - val_accuracy: 0.9500 - val_loss: 0.2540\n",
      "Epoch 54/100\n",
      "\u001b[1m3/3\u001b[0m \u001b[32m━━━━━━━━━━━━━━━━━━━━\u001b[0m\u001b[37m\u001b[0m \u001b[1m0s\u001b[0m 23ms/step - accuracy: 0.8640 - loss: 0.3658 - val_accuracy: 0.9500 - val_loss: 0.2468\n",
      "Epoch 55/100\n",
      "\u001b[1m3/3\u001b[0m \u001b[32m━━━━━━━━━━━━━━━━━━━━\u001b[0m\u001b[37m\u001b[0m \u001b[1m0s\u001b[0m 19ms/step - accuracy: 0.8523 - loss: 0.3767 - val_accuracy: 0.9500 - val_loss: 0.2404\n",
      "Epoch 56/100\n",
      "\u001b[1m3/3\u001b[0m \u001b[32m━━━━━━━━━━━━━━━━━━━━\u001b[0m\u001b[37m\u001b[0m \u001b[1m0s\u001b[0m 16ms/step - accuracy: 0.8562 - loss: 0.3635 - val_accuracy: 0.9500 - val_loss: 0.2342\n",
      "Epoch 57/100\n",
      "\u001b[1m3/3\u001b[0m \u001b[32m━━━━━━━━━━━━━━━━━━━━\u001b[0m\u001b[37m\u001b[0m \u001b[1m0s\u001b[0m 17ms/step - accuracy: 0.8796 - loss: 0.3394 - val_accuracy: 0.9500 - val_loss: 0.2282\n",
      "Epoch 58/100\n",
      "\u001b[1m3/3\u001b[0m \u001b[32m━━━━━━━━━━━━━━━━━━━━\u001b[0m\u001b[37m\u001b[0m \u001b[1m0s\u001b[0m 17ms/step - accuracy: 0.8523 - loss: 0.3592 - val_accuracy: 0.9500 - val_loss: 0.2235\n",
      "Epoch 59/100\n",
      "\u001b[1m3/3\u001b[0m \u001b[32m━━━━━━━━━━━━━━━━━━━━\u001b[0m\u001b[37m\u001b[0m \u001b[1m0s\u001b[0m 15ms/step - accuracy: 0.8757 - loss: 0.3315 - val_accuracy: 0.9000 - val_loss: 0.2192\n",
      "Epoch 60/100\n",
      "\u001b[1m3/3\u001b[0m \u001b[32m━━━━━━━━━━━━━━━━━━━━\u001b[0m\u001b[37m\u001b[0m \u001b[1m0s\u001b[0m 13ms/step - accuracy: 0.8547 - loss: 0.3664 - val_accuracy: 0.9000 - val_loss: 0.2155\n",
      "Epoch 61/100\n",
      "\u001b[1m3/3\u001b[0m \u001b[32m━━━━━━━━━━━━━━━━━━━━\u001b[0m\u001b[37m\u001b[0m \u001b[1m0s\u001b[0m 16ms/step - accuracy: 0.8898 - loss: 0.3158 - val_accuracy: 0.9500 - val_loss: 0.2116\n",
      "Epoch 62/100\n",
      "\u001b[1m3/3\u001b[0m \u001b[32m━━━━━━━━━━━━━━━━━━━━\u001b[0m\u001b[37m\u001b[0m \u001b[1m0s\u001b[0m 17ms/step - accuracy: 0.8757 - loss: 0.3331 - val_accuracy: 0.9500 - val_loss: 0.2077\n",
      "Epoch 63/100\n",
      "\u001b[1m3/3\u001b[0m \u001b[32m━━━━━━━━━━━━━━━━━━━━\u001b[0m\u001b[37m\u001b[0m \u001b[1m0s\u001b[0m 13ms/step - accuracy: 0.8601 - loss: 0.3388 - val_accuracy: 0.9500 - val_loss: 0.2045\n",
      "Epoch 64/100\n",
      "\u001b[1m3/3\u001b[0m \u001b[32m━━━━━━━━━━━━━━━━━━━━\u001b[0m\u001b[37m\u001b[0m \u001b[1m0s\u001b[0m 14ms/step - accuracy: 0.8405 - loss: 0.3528 - val_accuracy: 0.9500 - val_loss: 0.2015\n",
      "Epoch 65/100\n",
      "\u001b[1m3/3\u001b[0m \u001b[32m━━━━━━━━━━━━━━━━━━━━\u001b[0m\u001b[37m\u001b[0m \u001b[1m0s\u001b[0m 13ms/step - accuracy: 0.8483 - loss: 0.3321 - val_accuracy: 0.9500 - val_loss: 0.1981\n",
      "Epoch 66/100\n",
      "\u001b[1m3/3\u001b[0m \u001b[32m━━━━━━━━━━━━━━━━━━━━\u001b[0m\u001b[37m\u001b[0m \u001b[1m0s\u001b[0m 13ms/step - accuracy: 0.8718 - loss: 0.3108 - val_accuracy: 0.9500 - val_loss: 0.1949\n",
      "Epoch 67/100\n",
      "\u001b[1m3/3\u001b[0m \u001b[32m━━━━━━━━━━━━━━━━━━━━\u001b[0m\u001b[37m\u001b[0m \u001b[1m0s\u001b[0m 14ms/step - accuracy: 0.8586 - loss: 0.3361 - val_accuracy: 0.9500 - val_loss: 0.1912\n",
      "Epoch 68/100\n",
      "\u001b[1m3/3\u001b[0m \u001b[32m━━━━━━━━━━━━━━━━━━━━\u001b[0m\u001b[37m\u001b[0m \u001b[1m0s\u001b[0m 15ms/step - accuracy: 0.8742 - loss: 0.3226 - val_accuracy: 0.9500 - val_loss: 0.1878\n",
      "Epoch 69/100\n",
      "\u001b[1m3/3\u001b[0m \u001b[32m━━━━━━━━━━━━━━━━━━━━\u001b[0m\u001b[37m\u001b[0m \u001b[1m0s\u001b[0m 17ms/step - accuracy: 0.8625 - loss: 0.3235 - val_accuracy: 0.9000 - val_loss: 0.1844\n",
      "Epoch 70/100\n",
      "\u001b[1m3/3\u001b[0m \u001b[32m━━━━━━━━━━━━━━━━━━━━\u001b[0m\u001b[37m\u001b[0m \u001b[1m0s\u001b[0m 19ms/step - accuracy: 0.8742 - loss: 0.3406 - val_accuracy: 0.9500 - val_loss: 0.1821\n",
      "Epoch 71/100\n",
      "\u001b[1m3/3\u001b[0m \u001b[32m━━━━━━━━━━━━━━━━━━━━\u001b[0m\u001b[37m\u001b[0m \u001b[1m0s\u001b[0m 24ms/step - accuracy: 0.8820 - loss: 0.3195 - val_accuracy: 0.9500 - val_loss: 0.1796\n",
      "Epoch 72/100\n",
      "\u001b[1m3/3\u001b[0m \u001b[32m━━━━━━━━━━━━━━━━━━━━\u001b[0m\u001b[37m\u001b[0m \u001b[1m0s\u001b[0m 14ms/step - accuracy: 0.8781 - loss: 0.3241 - val_accuracy: 0.9000 - val_loss: 0.1772\n",
      "Epoch 73/100\n",
      "\u001b[1m3/3\u001b[0m \u001b[32m━━━━━━━━━━━━━━━━━━━━\u001b[0m\u001b[37m\u001b[0m \u001b[1m0s\u001b[0m 18ms/step - accuracy: 0.8586 - loss: 0.3176 - val_accuracy: 0.9000 - val_loss: 0.1753\n",
      "Epoch 74/100\n",
      "\u001b[1m3/3\u001b[0m \u001b[32m━━━━━━━━━━━━━━━━━━━━\u001b[0m\u001b[37m\u001b[0m \u001b[1m0s\u001b[0m 17ms/step - accuracy: 0.8586 - loss: 0.3303 - val_accuracy: 0.9500 - val_loss: 0.1741\n",
      "Epoch 75/100\n",
      "\u001b[1m3/3\u001b[0m \u001b[32m━━━━━━━━━━━━━━━━━━━━\u001b[0m\u001b[37m\u001b[0m \u001b[1m0s\u001b[0m 15ms/step - accuracy: 0.8664 - loss: 0.2923 - val_accuracy: 0.9500 - val_loss: 0.1727\n",
      "Epoch 76/100\n",
      "\u001b[1m3/3\u001b[0m \u001b[32m━━━━━━━━━━━━━━━━━━━━\u001b[0m\u001b[37m\u001b[0m \u001b[1m0s\u001b[0m 12ms/step - accuracy: 0.8937 - loss: 0.2823 - val_accuracy: 0.9500 - val_loss: 0.1711\n",
      "Epoch 77/100\n",
      "\u001b[1m3/3\u001b[0m \u001b[32m━━━━━━━━━━━━━━━━━━━━\u001b[0m\u001b[37m\u001b[0m \u001b[1m0s\u001b[0m 14ms/step - accuracy: 0.8664 - loss: 0.3174 - val_accuracy: 0.9000 - val_loss: 0.1693\n",
      "Epoch 78/100\n",
      "\u001b[1m3/3\u001b[0m \u001b[32m━━━━━━━━━━━━━━━━━━━━\u001b[0m\u001b[37m\u001b[0m \u001b[1m0s\u001b[0m 13ms/step - accuracy: 0.8727 - loss: 0.3108 - val_accuracy: 0.9000 - val_loss: 0.1669\n",
      "Epoch 79/100\n",
      "\u001b[1m3/3\u001b[0m \u001b[32m━━━━━━━━━━━━━━━━━━━━\u001b[0m\u001b[37m\u001b[0m \u001b[1m0s\u001b[0m 12ms/step - accuracy: 0.8884 - loss: 0.3052 - val_accuracy: 0.9000 - val_loss: 0.1649\n",
      "Epoch 80/100\n",
      "\u001b[1m3/3\u001b[0m \u001b[32m━━━━━━━━━━━━━━━━━━━━\u001b[0m\u001b[37m\u001b[0m \u001b[1m0s\u001b[0m 16ms/step - accuracy: 0.8688 - loss: 0.3439 - val_accuracy: 0.9000 - val_loss: 0.1631\n",
      "Epoch 81/100\n",
      "\u001b[1m3/3\u001b[0m \u001b[32m━━━━━━━━━━━━━━━━━━━━\u001b[0m\u001b[37m\u001b[0m \u001b[1m0s\u001b[0m 19ms/step - accuracy: 0.8727 - loss: 0.3143 - val_accuracy: 0.9000 - val_loss: 0.1618\n",
      "Epoch 82/100\n",
      "\u001b[1m3/3\u001b[0m \u001b[32m━━━━━━━━━━━━━━━━━━━━\u001b[0m\u001b[37m\u001b[0m \u001b[1m0s\u001b[0m 31ms/step - accuracy: 0.8962 - loss: 0.2721 - val_accuracy: 0.9000 - val_loss: 0.1604\n",
      "Epoch 83/100\n",
      "\u001b[1m3/3\u001b[0m \u001b[32m━━━━━━━━━━━━━━━━━━━━\u001b[0m\u001b[37m\u001b[0m \u001b[1m0s\u001b[0m 20ms/step - accuracy: 0.8805 - loss: 0.2907 - val_accuracy: 0.9500 - val_loss: 0.1594\n",
      "Epoch 84/100\n",
      "\u001b[1m3/3\u001b[0m \u001b[32m━━━━━━━━━━━━━━━━━━━━\u001b[0m\u001b[37m\u001b[0m \u001b[1m0s\u001b[0m 19ms/step - accuracy: 0.9001 - loss: 0.2714 - val_accuracy: 0.9500 - val_loss: 0.1587\n",
      "Epoch 85/100\n",
      "\u001b[1m3/3\u001b[0m \u001b[32m━━━━━━━━━━━━━━━━━━━━\u001b[0m\u001b[37m\u001b[0m \u001b[1m0s\u001b[0m 15ms/step - accuracy: 0.8844 - loss: 0.2856 - val_accuracy: 0.9500 - val_loss: 0.1590\n",
      "Epoch 86/100\n",
      "\u001b[1m3/3\u001b[0m \u001b[32m━━━━━━━━━━━━━━━━━━━━\u001b[0m\u001b[37m\u001b[0m \u001b[1m0s\u001b[0m 13ms/step - accuracy: 0.8703 - loss: 0.3195 - val_accuracy: 0.9500 - val_loss: 0.1590\n",
      "Epoch 87/100\n",
      "\u001b[1m3/3\u001b[0m \u001b[32m━━━━━━━━━━━━━━━━━━━━\u001b[0m\u001b[37m\u001b[0m \u001b[1m0s\u001b[0m 13ms/step - accuracy: 0.8649 - loss: 0.3255 - val_accuracy: 0.9500 - val_loss: 0.1575\n",
      "Epoch 88/100\n",
      "\u001b[1m3/3\u001b[0m \u001b[32m━━━━━━━━━━━━━━━━━━━━\u001b[0m\u001b[37m\u001b[0m \u001b[1m0s\u001b[0m 16ms/step - accuracy: 0.8844 - loss: 0.2803 - val_accuracy: 0.9500 - val_loss: 0.1563\n",
      "Epoch 89/100\n",
      "\u001b[1m3/3\u001b[0m \u001b[32m━━━━━━━━━━━━━━━━━━━━\u001b[0m\u001b[37m\u001b[0m \u001b[1m0s\u001b[0m 16ms/step - accuracy: 0.8805 - loss: 0.2933 - val_accuracy: 0.9500 - val_loss: 0.1554\n",
      "Epoch 90/100\n",
      "\u001b[1m3/3\u001b[0m \u001b[32m━━━━━━━━━━━━━━━━━━━━\u001b[0m\u001b[37m\u001b[0m \u001b[1m0s\u001b[0m 13ms/step - accuracy: 0.8923 - loss: 0.2696 - val_accuracy: 0.9000 - val_loss: 0.1543\n",
      "Epoch 91/100\n",
      "\u001b[1m3/3\u001b[0m \u001b[32m━━━━━━━━━━━━━━━━━━━━\u001b[0m\u001b[37m\u001b[0m \u001b[1m0s\u001b[0m 15ms/step - accuracy: 0.9040 - loss: 0.2736 - val_accuracy: 0.9500 - val_loss: 0.1537\n",
      "Epoch 92/100\n",
      "\u001b[1m3/3\u001b[0m \u001b[32m━━━━━━━━━━━━━━━━━━━━\u001b[0m\u001b[37m\u001b[0m \u001b[1m0s\u001b[0m 12ms/step - accuracy: 0.8727 - loss: 0.3021 - val_accuracy: 0.9500 - val_loss: 0.1535\n",
      "Epoch 93/100\n",
      "\u001b[1m3/3\u001b[0m \u001b[32m━━━━━━━━━━━━━━━━━━━━\u001b[0m\u001b[37m\u001b[0m \u001b[1m0s\u001b[0m 14ms/step - accuracy: 0.8844 - loss: 0.2808 - val_accuracy: 0.9500 - val_loss: 0.1535\n",
      "Epoch 94/100\n",
      "\u001b[1m3/3\u001b[0m \u001b[32m━━━━━━━━━━━━━━━━━━━━\u001b[0m\u001b[37m\u001b[0m \u001b[1m0s\u001b[0m 21ms/step - accuracy: 0.8727 - loss: 0.2934 - val_accuracy: 0.9500 - val_loss: 0.1526\n",
      "Epoch 95/100\n",
      "\u001b[1m3/3\u001b[0m \u001b[32m━━━━━━━━━━━━━━━━━━━━\u001b[0m\u001b[37m\u001b[0m \u001b[1m0s\u001b[0m 18ms/step - accuracy: 0.8962 - loss: 0.2934 - val_accuracy: 0.9500 - val_loss: 0.1520\n",
      "Epoch 96/100\n",
      "\u001b[1m3/3\u001b[0m \u001b[32m━━━━━━━━━━━━━━━━━━━━\u001b[0m\u001b[37m\u001b[0m \u001b[1m0s\u001b[0m 16ms/step - accuracy: 0.8884 - loss: 0.2779 - val_accuracy: 0.9500 - val_loss: 0.1511\n",
      "Epoch 97/100\n",
      "\u001b[1m3/3\u001b[0m \u001b[32m━━━━━━━━━━━━━━━━━━━━\u001b[0m\u001b[37m\u001b[0m \u001b[1m0s\u001b[0m 16ms/step - accuracy: 0.8805 - loss: 0.2778 - val_accuracy: 0.9500 - val_loss: 0.1500\n",
      "Epoch 98/100\n",
      "\u001b[1m3/3\u001b[0m \u001b[32m━━━━━━━━━━━━━━━━━━━━\u001b[0m\u001b[37m\u001b[0m \u001b[1m0s\u001b[0m 17ms/step - accuracy: 0.8844 - loss: 0.2758 - val_accuracy: 0.9500 - val_loss: 0.1486\n",
      "Epoch 99/100\n",
      "\u001b[1m3/3\u001b[0m \u001b[32m━━━━━━━━━━━━━━━━━━━━\u001b[0m\u001b[37m\u001b[0m \u001b[1m0s\u001b[0m 15ms/step - accuracy: 0.8923 - loss: 0.2873 - val_accuracy: 0.9500 - val_loss: 0.1475\n",
      "Epoch 100/100\n",
      "\u001b[1m3/3\u001b[0m \u001b[32m━━━━━━━━━━━━━━━━━━━━\u001b[0m\u001b[37m\u001b[0m \u001b[1m0s\u001b[0m 14ms/step - accuracy: 0.8962 - loss: 0.2648 - val_accuracy: 0.9500 - val_loss: 0.1455\n"
     ]
    }
   ],
   "source": [
    "history = model.fit(X,y,epochs=100, validation_split=0.2)"
   ]
  },
  {
   "cell_type": "code",
   "execution_count": 16,
   "id": "4863b64b-1971-40a8-be7f-d9b08a532501",
   "metadata": {},
   "outputs": [
    {
     "data": {
      "text/plain": [
       "[array([[-0.09948643,  1.017437  , -0.69277287, -1.270551  , -0.5604487 ,\n",
       "         -0.18239765, -1.0755116 ,  0.45610362,  0.43410227,  0.2998738 ],\n",
       "        [ 1.7100048 ,  1.1667413 ,  0.43003517, -0.7724772 , -0.3442893 ,\n",
       "         -1.4304734 , -0.2044569 , -0.6423446 ,  0.6490833 ,  0.7303678 ]],\n",
       "       dtype=float32),\n",
       " array([ 0.03671365,  0.2122058 ,  0.26014167,  0.13097873, -0.10717249,\n",
       "         0.18036234, -0.03680818,  0.11149817,  0.13210568,  0.00352998],\n",
       "       dtype=float32),\n",
       " array([[ 0.19524848, -0.00768215, -0.4979683 , -0.36168984, -0.378079  ,\n",
       "          0.2301296 , -0.30993626, -0.11882168, -0.24566074, -0.11370001],\n",
       "        [ 0.3879214 ,  0.39544454,  0.20503654, -0.40556175, -0.2699741 ,\n",
       "          0.23218124,  0.2829882 ,  0.14791274,  0.12435233, -0.3760624 ],\n",
       "        [ 0.7958131 ,  0.08594229,  0.55438113,  0.80591375,  0.29585153,\n",
       "         -0.5898792 ,  0.5749205 ,  0.5229467 ,  0.27547726,  0.06630719],\n",
       "        [ 0.6336114 , -0.07856113,  0.0512312 ,  0.43226513, -0.26396376,\n",
       "         -0.32191682,  0.25637004, -0.9340944 , -0.07438205, -0.14608477],\n",
       "        [ 0.17377597, -0.0687798 , -0.27686554, -0.33511582,  0.12506206,\n",
       "          0.4880133 , -0.24543403, -0.63722736, -0.2581287 , -0.22901858],\n",
       "        [ 0.56120634, -0.03920219,  0.31776133, -0.40203416,  0.3597014 ,\n",
       "         -0.25543338,  0.58538884, -0.2547996 ,  0.22421046, -0.12324966],\n",
       "        [ 0.2882358 , -0.07282472,  0.26657397,  0.64589095,  0.14246148,\n",
       "         -0.10431646, -0.8751903 ,  0.00642755, -0.19528094,  0.30724832],\n",
       "        [ 0.11382388, -0.41179326,  0.7983108 , -0.48581082,  0.32856038,\n",
       "         -0.30974492,  0.34156203, -0.00494997,  0.14174058, -0.27717575],\n",
       "        [ 0.39851373, -0.6098922 ,  0.22303991, -0.14003909,  0.38962516,\n",
       "          0.3419948 , -0.12836571, -0.32781428, -0.16113499,  0.00604161],\n",
       "        [ 0.2569792 , -0.24995157, -0.0610536 ,  0.5854946 ,  0.8994569 ,\n",
       "          0.6048297 , -0.14333102, -0.3626435 ,  0.24556063, -0.19260135]],\n",
       "       dtype=float32),\n",
       " array([ 0.19184764, -0.05798335,  0.12870876,  0.03696076, -0.13249783,\n",
       "         0.12065879,  0.14406721, -0.07031585,  0.17994268, -0.04109434],\n",
       "       dtype=float32),\n",
       " array([[ 0.5997944 ,  0.0264926 , -0.4807029 ,  0.83407766, -0.11192092,\n",
       "          0.21372661, -0.3426835 ,  0.13108838,  0.28085938,  0.518493  ],\n",
       "        [ 0.23222643, -0.39375174, -0.4612321 , -0.52393275, -0.21818498,\n",
       "         -0.25000107,  0.05423155, -0.2506944 , -0.19127065, -0.17958166],\n",
       "        [ 0.19498669,  0.84985316,  0.12428762, -0.20023787, -0.21295068,\n",
       "          0.32823032, -0.0070155 ,  0.80183667, -0.13874587, -0.21590595],\n",
       "        [-0.32029256, -0.27177614,  0.5213343 , -0.03194134, -0.46259084,\n",
       "         -0.4887712 , -0.2553765 ,  0.02994963,  0.00608046,  0.8627636 ],\n",
       "        [ 0.70357347,  0.16341439,  0.49156737, -0.20487666, -0.30707434,\n",
       "          0.4216306 , -0.01438199,  0.01670905, -0.02967397,  0.5149044 ],\n",
       "        [ 0.25507766, -0.2046909 , -0.38678628,  0.44479945,  0.47368303,\n",
       "         -0.36391017,  0.15169857,  0.15638   , -0.5641306 , -0.6809505 ],\n",
       "        [ 0.20823234,  0.09688824, -0.43991756, -0.82728696, -0.40879142,\n",
       "         -0.07512614,  0.05491618,  0.69461143,  0.7906118 , -0.30713958],\n",
       "        [ 0.04876962, -0.8609819 , -0.52727205,  0.04387015,  0.3205665 ,\n",
       "         -0.17641157, -0.12226409, -0.08015407, -0.1067034 , -0.75379616],\n",
       "        [ 0.5990619 ,  0.70666003, -0.17079666, -0.07035104,  0.17668147,\n",
       "          0.17866963,  0.38266492, -0.16467577,  0.26131284, -0.49056348],\n",
       "        [-0.04017337, -0.06048001, -0.03210211,  0.2434734 ,  0.12792489,\n",
       "          0.3794711 , -0.37615988, -0.09425589,  0.10309239, -0.06809688]],\n",
       "       dtype=float32),\n",
       " array([ 0.04317551,  0.10728503, -0.02102486,  0.16813374,  0.11815331,\n",
       "         0.11151652, -0.00379046,  0.15605214,  0.16562417, -0.10579873],\n",
       "       dtype=float32),\n",
       " array([[-0.06043796, -0.28190795,  0.14660338, -0.17482005,  0.38698575,\n",
       "          0.399827  , -0.31434557,  0.05944032, -0.07883304,  0.12069631],\n",
       "        [ 0.8619131 ,  0.44749886, -0.11359334, -0.01674848,  0.42605728,\n",
       "         -0.01997234,  0.31312856, -0.14851353, -0.06781525, -0.50328934],\n",
       "        [-0.13583282, -0.26670575,  0.37133068,  0.2409393 , -0.02158083,\n",
       "         -0.34007284,  0.4991499 ,  0.31076095,  0.15957452, -0.03157499],\n",
       "        [-0.23607257, -0.6676189 ,  0.49598554,  0.02933833, -0.55750924,\n",
       "         -0.0628808 , -0.3299221 ,  0.0981517 , -0.20368722,  0.5714111 ],\n",
       "        [ 0.26047656, -0.11607615,  0.16961338, -0.3492076 , -0.26490378,\n",
       "         -0.4775343 ,  0.6603378 ,  0.41247925,  0.1509336 ,  0.46105176],\n",
       "        [ 0.5628407 ,  0.04636689, -0.41847855, -0.19396351,  0.40579605,\n",
       "         -0.02413791,  0.02661017, -0.05926404, -0.14774269,  0.06203455],\n",
       "        [-0.04097863, -0.16280772,  0.5051632 ,  0.15518492, -0.250042  ,\n",
       "          0.65247875, -0.27553704,  0.64240277,  0.06961496,  0.62534004],\n",
       "        [ 0.65657675, -0.7388584 ,  0.11638068,  0.05200272,  1.0235103 ,\n",
       "         -0.7602729 , -0.2755909 ,  0.16398348, -0.4150879 ,  0.24412562],\n",
       "        [ 0.26526794, -0.02444846, -0.07672199,  0.1371256 ,  0.935239  ,\n",
       "          0.02111869, -0.10419767, -0.14259852, -0.09952215, -0.12168696],\n",
       "        [-0.4261331 , -0.09538605,  0.44048923,  0.40245944, -0.46373916,\n",
       "          0.11668454, -0.36066598,  0.55684197,  0.11665458,  0.1933542 ]],\n",
       "       dtype=float32),\n",
       " array([ 0.05661795,  0.        ,  0.11676805, -0.03568061,  0.07914377,\n",
       "        -0.09739692,  0.        ,  0.03718993,  0.        ,  0.17012438],\n",
       "       dtype=float32),\n",
       " array([[ 0.27251187],\n",
       "        [-0.44822118],\n",
       "        [-0.5052809 ],\n",
       "        [-0.565224  ],\n",
       "        [ 0.6476196 ],\n",
       "        [ 0.07511853],\n",
       "        [-0.01082773],\n",
       "        [-1.08231   ],\n",
       "        [ 0.22982879],\n",
       "        [-0.48301473]], dtype=float32),\n",
       " array([-0.07971568], dtype=float32)]"
      ]
     },
     "execution_count": 16,
     "metadata": {},
     "output_type": "execute_result"
    }
   ],
   "source": [
    "model.get_weights()"
   ]
  },
  {
   "cell_type": "code",
   "execution_count": 17,
   "id": "1f22b690-b62b-4900-99fe-70251fa9f00f",
   "metadata": {},
   "outputs": [
    {
     "name": "stdout",
     "output_type": "stream",
     "text": [
      "\u001b[1m3888/3888\u001b[0m \u001b[32m━━━━━━━━━━━━━━━━━━━━\u001b[0m\u001b[37m\u001b[0m \u001b[1m4s\u001b[0m 937us/step\n"
     ]
    },
    {
     "data": {
      "text/plain": [
       "<Axes: >"
      ]
     },
     "execution_count": 17,
     "metadata": {},
     "output_type": "execute_result"
    },
    {
     "data": {
      "image/png": "[encoded data removed]",
      "text/plain": [
       "<Figure size 432x288 with 1 Axes>"
      ]
     },
     "metadata": {
      "needs_background": "light"
     },
     "output_type": "display_data"
    }
   ],
   "source": [
    "from mlxtend.plotting import plot_decision_regions\n",
    "plot_decision_regions(X,y.astype('int'), clf=model, legend=2)"
   ]
  },
  {
   "cell_type": "code",
   "execution_count": 18,
   "id": "4e96fb37-deb4-4c0b-b640-ba5ca484850a",
   "metadata": {},
   "outputs": [
    {
     "data": {
      "text/plain": [
       "-0.022632777732382398"
      ]
     },
     "execution_count": 18,
     "metadata": {},
     "output_type": "execute_result"
    }
   ],
   "source": [
    "(np.random.randn(10,10)*0.01).min()"
   ]
  },
  {
   "cell_type": "code",
   "execution_count": 19,
   "id": "464e2a0b-c225-43b8-b948-3d4776aaeedb",
   "metadata": {},
   "outputs": [
    {
     "data": {
      "text/plain": [
       "0.023738813456732073"
      ]
     },
     "execution_count": 19,
     "metadata": {},
     "output_type": "execute_result"
    }
   ],
   "source": [
    "(np.random.randn(10,10)*0.01).max()"
   ]
  },
  {
   "cell_type": "code",
   "execution_count": null,
   "id": "8ee1c388-3bc2-4d63-b8f7-b223fe040a3a",
   "metadata": {},
   "outputs": [],
   "source": []
  },
  {
   "cell_type": "code",
   "execution_count": null,
   "id": "86721946-57f1-4e93-a1bf-97f10beaeff2",
   "metadata": {},
   "outputs": [],
   "source": []
  }
 ],
 "metadata": {
  "kernelspec": {
   "display_name": "Python 3 (ipykernel)",
   "language": "python",
   "name": "python3"
  },
  "language_info": {
   "codemirror_mode": {
    "name": "ipython",
    "version": 3
   },
   "file_extension": ".py",
   "mimetype": "text/x-python",
   "name": "python",
   "nbconvert_exporter": "python",
   "pygments_lexer": "ipython3",
   "version": "3.10.12"
  }
 },
 "nbformat": 4,
 "nbformat_minor": 5
}
